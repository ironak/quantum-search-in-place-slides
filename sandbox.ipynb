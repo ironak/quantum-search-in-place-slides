{
 "cells": [
  {
   "cell_type": "markdown",
   "id": "ccaa6a4a",
   "metadata": {},
   "source": [
    "### Helper"
   ]
  },
  {
   "cell_type": "code",
   "execution_count": 1,
   "id": "95f584e8",
   "metadata": {},
   "outputs": [],
   "source": [
    "from manim import *\n",
    "import numpy as np\n",
    "from manim_slides import Slide"
   ]
  },
  {
   "cell_type": "markdown",
   "id": "473633ac",
   "metadata": {},
   "source": [
    "#### Preamble"
   ]
  },
  {
   "cell_type": "code",
   "execution_count": 2,
   "id": "56223f8d",
   "metadata": {},
   "outputs": [
    {
     "data": {
      "text/plain": [
       "TexTemplate(_body='', tex_compiler='latex', description='', output_format='.dvi', documentclass='\\\\documentclass[preview]{standalone}', preamble='\\\\usepackage[english]{babel}\\n\\\\usepackage{amsmath}\\n\\\\usepackage{amssymb}\\n\\\\usepackage[utf8]{inputenc}\\n\\n\\\\usepackage[letterpaper,margin=1in]{geometry}\\n\\\\usepackage[OT1]{fontenc}\\n\\n\\\\usepackage{amsmath,amssymb,amsthm,amsfonts,latexsym,bbm,xspace,thm-restate}\\n\\\\usepackage{graphicx,float,mathtools,braket,slantsc}\\n\\\\usepackage{enumitem,booktabs,forest,mathdots,soul}\\n\\\\usepackage[useregional]{datetime2}\\n\\\\DTMusemodule{english}{en-US}\\n\\n\\\\usepackage{qcircuit,tikz}\\n\\n\\\\usepackage[colorlinks,citecolor=blue,,linkcolor=magenta,bookmarks=true]{hyperref}\\n\\\\usepackage[capitalise]{cleveref}\\n\\n\\\\usepackage{multicol,array}\\n\\\\usepackage{lipsum,framed}\\n\\n\\\\newtheorem{theorem}{Theorem}\\n\\\\newtheorem*{theorem*}{Theorem}\\n\\\\newtheorem{lemma}[theorem]{Lemma}\\n\\\\newtheorem{claim}[theorem]{Claim}\\n\\\\newtheorem{proposition}[theorem]{Proposition}\\n\\\\newtheorem{corollary}[theorem]{Corollary}\\n\\\\newtheorem{conjecture}[theorem]{Conjecture}\\n\\\\newtheorem{infthm}[theorem]{Informal Theorem}\\n\\n\\\\newtheorem{result}[theorem]{Result}\\n\\\\crefname{result}{Result}{Results}\\n\\n\\\\newtheorem{fact}[theorem]{Fact}\\n\\\\crefname{fact}{Fact}{Facts}\\n\\n\\\\theoremstyle{definition}\\n\\\\newtheorem{definition}[theorem]{Definition}\\n\\\\newtheorem{infdef}[theorem]{Informal Definition}\\n\\\\newtheorem{remark}[theorem]{Remark}\\n\\\\newtheorem{notation}[theorem]{Notation}\\n\\\\newtheorem{example}[theorem]{Example}\\n\\\\newtheorem{examples}[theorem]{Examples}\\n\\n%%%%%%%%%%%% Generic math macros %%%%%%%%%%%%\\n\\n% probability and other mathops\\n\\\\let\\\\Pr\\\\relax\\n\\\\DeclareMathOperator{\\\\Pr}{Pr}\\n\\\\DeclareMathOperator{\\\\E}{E}\\n\\\\DeclareMathOperator{\\\\Ex}{\\\\E}\\n\\\\DeclareMathOperator{\\\\Var}{Cov}\\n\\\\DeclareMathOperator{\\\\Cov}{Var}\\n\\\\DeclareMathOperator{\\\\stddev}{stddev}\\n\\n\\\\DeclareMathOperator{\\\\tr}{tr}\\n\\\\DeclareMathOperator{\\\\Tr}{\\\\tr} \\\\DeclareMathOperator{\\\\trace}{\\\\tr}\\n\\n\\\\DeclareMathOperator{\\\\poly}{poly}\\n\\\\DeclareMathOperator{\\\\polylog}{polylog}\\n\\\\DeclareMathOperator{\\\\avg}{avg}\\n\\\\DeclareMathOperator{\\\\sgn}{sgn}\\n\\\\DeclareMathOperator{\\\\dist}{dist}\\n\\\\DeclareMathOperator{\\\\spn}{span}\\n\\\\DeclareMathOperator{\\\\supp}{supp}\\n\\\\DeclareMathOperator{\\\\diag}{diag}\\n\\n\\\\newcommand{\\\\ketbra}[2]{\\\\ket{#1}\\\\!\\\\bra{#2}}\\n\\n%% other math terms\\n\\\\newcommand{\\\\unitary}[1]{\\\\textup{#1}}\\n\\\\newcommand{\\\\cont}{\\\\unitary{controlled-}}\\n\\\\newcommand{\\\\SWAP}{\\\\unitary{SWAP}}\\n\\\\newcommand{\\\\CNOT}{\\\\unitary{CNOT}}\\n\\\\newcommand{\\\\NOT}{\\\\unitary{NOT}}\\n\\n\\\\newcommand{\\\\eps}{\\\\varepsilon}\\n\\n\\\\newcommand{\\\\odd}{\\\\text{odd}}\\n\\\\newcommand{\\\\even}{\\\\text{even}}\\n\\\\newcommand{\\\\true}{\\\\text{True}} \\\\newcommand{\\\\True}{\\\\text{True}}\\n\\\\newcommand{\\\\false}{\\\\text{False}} \\\\newcommand{\\\\False}{\\\\text{True}}\\n\\\\newcommand{\\\\yes}{\\\\text{yes}}\\n\\\\newcommand{\\\\no}{\\\\text{no}}\\n\\\\newcommand{\\\\YES}{\\\\text{YES}}\\n\\\\newcommand{\\\\NO}{\\\\text{NO}}\\n\\n%nth\\n\\\\newcommand{\\\\nth}{\\\\textsuperscript{th}}\\n\\n% number systems\\n\\\\newcommand{\\\\reals}{\\\\mathbb R}\\n\\\\newcommand{\\\\complex}{\\\\mathbb C}\\n\\\\newcommand{\\\\nats}{\\\\mathbb N}\\n\\\\newcommand{\\\\integers}{\\\\mathbb Z}\\n\\\\newcommand{\\\\rationals}{\\\\mathbb Q}\\n\\n% complexity classes\\n\\\\newcommand{\\\\class}[1]{\\\\ensuremath{\\\\mathsf{#1}}\\\\xspace}\\n\\\\mathchardef\\\\mhyphen=\"2D % Define hyphen for complexity classes\\n\\n\\\\newcommand{\\\\classcs}[3]{\\\\class{#1\\\\left(#2,#3\\\\right)}}\\n\\n\\\\newcommand{\\\\PTIME}{\\\\class{P}}\\n\\\\newcommand{\\\\NP}{\\\\class{NP}}\\n\\\\newcommand{\\\\coNP}{\\\\class{coNP}}\\n\\\\newcommand{\\\\MA}{\\\\class{MA}}\\n\\\\newcommand{\\\\TC}{\\\\class{TC}}\\n\\\\newcommand{\\\\AC}{\\\\class{AC}}\\n\\n\\\\newcommand{\\\\EXP}{\\\\class{EXP}}\\n\\\\newcommand{\\\\NEXP}{\\\\class{NEXP}}\\n\\\\newcommand{\\\\NEEXP}{\\\\class{NEEXP}}\\n\\\\newcommand{\\\\NTIME}{\\\\class{NTIME}}\\n\\n\\\\newcommand{\\\\IP}{\\\\class{IP}}\\n\\\\newcommand{\\\\IPk}[1][k]{\\\\class{IP(#1)}}\\n\\\\newcommand{\\\\PSPACE}{\\\\class{PSPACE}}\\n\\\\newcommand{\\\\MIP}{\\\\class{MIP}}\\n\\n\\\\newcommand{\\\\BQP}{\\\\class{BQP}}\\n\\\\newcommand{\\\\QCMA}{\\\\class{QCMA}}\\n\\\\newcommand{\\\\QMA}{\\\\class{QMA}}\\n\\\\newcommand{\\\\QMAk}[1][k]{\\\\class{QMA(#1)}}\\n\\\\newcommand{\\\\QMAtwo}{\\\\QMAk[2]}\\n\\\\newcommand{\\\\QIP}{\\\\class{QIP}}\\n\\\\newcommand{\\\\QIPk}[1][k]{\\\\class{QIP(#1)}}\\n\\\\newcommand{\\\\QRG}{\\\\class{QRG}}\\n\\\\newcommand{\\\\QRGk}[1][k]{\\\\class{QRG(#1)}}\\n\\\\newcommand{\\\\QRGone}{\\\\QRGk[1]}\\n\\\\newcommand{\\\\QRGtwo}{\\\\QRGk[2]}\\n\\\\newcommand{\\\\RG}{\\\\class{RG}}\\n\\\\newcommand{\\\\RGk}[1][k]{\\\\class{RG(#1)}}\\n\\\\newcommand{\\\\QMAM}{\\\\class{QMAM}}\\n\\\\newcommand{\\\\StoqMA}{\\\\class{StoqMA}}\\n\\n% PROBLEMS\\n\\\\newcommand{\\\\prob}[1]{\\\\textup{\\\\textsc{#1}}\\\\xspace}\\n\\\\newcommand{\\\\kLH}[1][k]{\\\\ensuremath{#1}\\\\prob{-LH}}\\n\\n\\\\newcommand{\\\\permInvers}{\\\\prob{Permutation Inversion}}\\n\\\\newcommand{\\\\functionErasure}{\\\\prob{Function Erasure}}\\n\\\\newcommand{\\\\indexErasure}{\\\\prob{Index Erasure}}\\n\\\\newcommand{\\\\graphIso}{\\\\prob{Graph Isomorphism}}\\n\\\\newcommand{\\\\rigidGraphIso}{\\\\prob{Rigid Graph Isomorphism}}\\n\\\\newcommand{\\\\setComp}{\\\\prob{Set Comparison}}\\n\\\\newcommand{\\\\setEquality}{\\\\prob{Set Equality}}\\n\\\\newcommand{\\\\perminvgarb}{\\\\prob{Embedded PermInv}}\\n\\\\newcommand{\\\\collision}{\\\\prob{Collision}}\\n\\n% calligraphic letters\\n\\\\newcommand{\\\\calA}{\\\\mathcal{A}}\\n\\\\newcommand{\\\\calB}{\\\\mathcal{B}}\\n\\\\newcommand{\\\\calC}{\\\\mathcal{C}}\\n\\\\newcommand{\\\\calD}{\\\\mathcal{D}}\\n\\\\newcommand{\\\\calE}{\\\\mathcal{E}}\\n\\\\newcommand{\\\\calF}{\\\\mathcal{F}}\\n\\\\newcommand{\\\\calG}{\\\\mathcal{G}}\\n\\\\newcommand{\\\\calH}{\\\\mathcal{H}}\\n\\\\newcommand{\\\\calI}{\\\\mathcal{I}}\\n\\\\newcommand{\\\\calJ}{\\\\mathcal{J}}\\n\\\\newcommand{\\\\calK}{\\\\mathcal{K}}\\n\\\\newcommand{\\\\calL}{\\\\mathcal{L}}\\n\\\\newcommand{\\\\calM}{\\\\mathcal{M}}\\n\\\\newcommand{\\\\calN}{\\\\mathcal{N}}\\n\\\\newcommand{\\\\calO}{\\\\mathcal{O}}\\n\\\\newcommand{\\\\calP}{\\\\mathcal{P}}\\n\\\\newcommand{\\\\calQ}{\\\\mathcal{Q}}\\n\\\\newcommand{\\\\calR}{\\\\mathcal{R}}\\n\\\\newcommand{\\\\calS}{\\\\mathcal{S}}\\n\\\\newcommand{\\\\calT}{\\\\mathcal{T}}\\n\\\\newcommand{\\\\calU}{\\\\mathcal{U}}\\n\\\\newcommand{\\\\calV}{\\\\mathcal{V}}\\n\\\\newcommand{\\\\calW}{\\\\mathcal{W}}\\n\\\\newcommand{\\\\calX}{\\\\mathcal{X}}\\n\\\\newcommand{\\\\calY}{\\\\mathcal{Y}}\\n\\\\newcommand{\\\\calZ}{\\\\mathcal{Z}}\\n\\n% registers\\n\\\\newcommand{\\\\regA}{\\\\calA}\\n\\\\newcommand{\\\\regB}{\\\\calB}\\n\\\\newcommand{\\\\regC}{\\\\calC}\\n\\\\newcommand{\\\\regD}{\\\\calD}\\n\\\\newcommand{\\\\regE}{\\\\calE}\\n\\\\newcommand{\\\\regF}{\\\\calF}\\n\\n% left-right wrappers\\n\\\\DeclarePairedDelimiter\\\\absd{\\\\lvert}{\\\\rvert}\\n\\\\DeclarePairedDelimiter\\\\normd{\\\\lVert}{\\\\rVert}\\n\\\\DeclarePairedDelimiter\\\\parend{\\\\lparen}{\\\\rparen}\\n\\\\DeclarePairedDelimiter\\\\floord{\\\\lfloor}{\\\\rfloor}\\n\\\\DeclarePairedDelimiter\\\\ceild{\\\\lceil}{\\\\rceil}\\n\\\\DeclarePairedDelimiter\\\\cbracd{\\\\lbrace}{\\\\rbrace}\\n\\n\\\\newcommand{\\\\abs}[1]{\\\\absd*{#1}}\\n\\\\newcommand{\\\\norm}[1]{\\\\normd*{#1}}\\n\\\\newcommand{\\\\paren}[1]{\\\\parend*{#1}}\\n\\\\newcommand{\\\\floor}[1]{\\\\floord*{#1}}\\n\\\\newcommand{\\\\ceil}[1]{\\\\ceild*{#1}}\\n\\\\newcommand{\\\\cbrac}[1]{\\\\cbracd*{#1}}\\n\\n% asymptotics\\n\\\\newcommand{\\\\bO}[1]{\\\\operatorname*{O}\\\\paren{#1}}\\n\\\\newcommand{\\\\bOt}[1]{\\\\operatorname*{\\\\wt{O}}\\\\paren{#1}}\\n\\\\newcommand{\\\\lO}[1]{\\\\operatorname*{o}\\\\paren{#1}}\\n\\\\newcommand{\\\\bOm}[1]{\\\\operatorname*{\\\\Omega}\\\\paren{#1}}\\n\\\\newcommand{\\\\lOm}[1]{\\\\operatorname*{\\\\omega}\\\\paren{#1}}\\n\\\\newcommand{\\\\bT}[1]{\\\\operatorname*{\\\\Theta}\\\\paren{#1}}\\n\\\\newcommand{\\\\bTt}[1]{\\\\operatorname*{\\\\wt{\\\\Theta}}\\\\paren{#1}}\\n\\\\newcommand{\\\\bOnoparen}{\\\\operatorname*{O}}\\n\\\\newcommand{\\\\bOmnoparen}{\\\\operatorname*{\\\\Omega}}\\n\\\\newcommand{\\\\bTnoparen}{\\\\operatorname*{\\\\Theta}}\\n\\\\newcommand{\\\\lonoparen}{\\\\operatorname*{o}}\\n\\n% Abbreviations.\\n\\\\newcommand{\\\\ie}{i.e.\\\\xspace}\\n\\\\newcommand{\\\\etal}{et al.\\\\xspace}\\n\\\\newcommand{\\\\etc}{etc.\\\\xspace}\\n\\\\newcommand{\\\\eg}{e.g.\\\\xspace}\\n\\n\\n%%%%%%%%%%%% Macros just for this doc %%%%%%%%%%%%\\n\\\\newcommand{\\\\e}{\\\\varepsilon}\\n\\\\newcommand{\\\\indic}[1]{\\\\mathds{1}_{#1}}   % indicator variable %\\\\dsmath, \\\\mathbbmm other possibilities here\\n\\\\newcommand{\\\\bin}[0]{\\\\left\\\\{0,1\\\\right\\\\}}\\n\\\\renewcommand{\\\\set}[1]{\\\\left\\\\{#1\\\\right\\\\}}\\n\\n\\\\newcommand{\\\\piinv}{\\\\pi^{-1}}\\n\\\\newcommand{\\\\inv}{^{-1}}\\n\\n\\\\newcommand{\\\\AND}{\\\\textsc{and}}\\n\\\\newcommand{\\\\OR}{\\\\textsc{or}}\\n\\\\newcommand{\\\\XOR}{\\\\textsc{xor}}\\n\\n\\\\newcommand{\\\\oracle}[1]{\\\\textup{#1}}\\n\\n\\\\newcommand{\\\\Ppi}{\\\\oracle{P}\\\\!_{\\\\pi}}\\n\\\\newcommand{\\\\Ppiinv}{\\\\oracle{P}\\\\!_{\\\\pi^{-1}}}\\n\\\\newcommand{\\\\Spi}{\\\\oracle{S}_{\\\\pi}}\\n\\\\newcommand{\\\\Spiinv}{\\\\oracle{S}_{\\\\pi^{-1}}}\\n\\n% not an oracle, but should match\\n\\\\newcommand{\\\\diffusion}{\\\\ensuremath{\\\\oracle{D}}} \\n\\n%%%%%%%%%%%% document-writing macros %%%%%%%%%%%%\\n\\\\newcommand{\\\\jnote}[1]{\\\\textcolor{red}{(Justin: #1)}}\\n\\\\newcommand{\\\\new}[1]{\\\\textcolor{red}{#1}}\\n\\\\newcommand{\\\\bnote}[1]{\\\\textcolor{purple}{(Blake: #1)}}\\n\\\\newcommand{\\\\jknote}[1]{\\\\textbf{\\\\textcolor{magenta}{(John: #1)}}}\\n\\\\newcommand{\\\\rnote}[1]{\\\\textcolor{orange}{(Ronak: #1)}}\\n\\\\newcommand{\\\\ronak}[1]{\\\\rnote{#1}}\\n\\\\newcommand{\\\\todo}[1]{\\\\footnote{\\\\highlight{\\\\textbf{TODO:} #1}}}\\n\\\\newcommand{\\\\justinnew}[1]{\\\\textbf{\\\\textcolor{cyan}{#1}}}\\n\\\\newcommand{\\\\change}[2]{\\\\st{#1}~\\\\new{#2}}\\n\\n\\n%%%%%%%%%%%%%%%%%%% Blake\\n\\\\newcommand{\\\\ddiff}{\\\\Delta_{\\\\mathsf{diff}}}\\n\\\\newcommand{\\\\circtimes}{\\\\smallmath\\\\mathbin\\\\otimes}\\n\\\\newcommand{\\\\smallmath}[2]{#1{\\\\raisebox{\\\\dimexpr \\\\fontdimen 22 \\\\textfont 2\\n      - \\\\fontdimen 22 \\\\scriptscriptfont 2 \\\\relax}{$\\\\scriptscriptstyle #2$}}\\n}\\n\\\\newcommand{\\\\circplus}{\\\\smallmath\\\\mathbin\\\\oplus}\\n\\\\DeclareMathOperator{\\\\relg}{\\\\overrightarrow{\\\\gamma_2}}\\n\\\\newcommand{\\\\zo}{\\\\bin}\\n\\\\DeclareMathOperator{\\\\nelg}{negl}\\n\\\\newcommand{\\\\p}[1]{\\\\paren{#1}}\\n\\\\newcommand{\\\\s}[1]{\\\\left[#1\\\\right]}\\n\\\\newcommand{\\\\cb}[1]{\\\\set{#1}}\\n\\\\newcommand{\\\\ang}[1]{\\\\left\\\\langle#1\\\\right\\\\rangle}\\n\\\\DeclareMathOperator{\\\\gen}{Gen}\\n\\\\DeclareMathOperator{\\\\enc}{Enc}\\n\\\\DeclareMathOperator{\\\\dec}{Dec}\\n\\\\newcommand{\\\\Exp}[1]{\\\\exp\\\\p{#1}}\\n\\\\newcommand{\\\\bmat}[1]{\\\\begin{bmatrix}\\n        #1\\n    \\\\end{bmatrix}\\n}\\n\\\\newcommand{\\\\birelg}{\\\\overline \\\\g}\\n\\\\DeclareMathOperator{\\\\g}{\\\\gamma_2}\\n\\n\\\\newcommand{\\\\xor}{\\\\mathsf{xor}}\\n\\\\newcommand{\\\\phase}{\\\\mathsf{phase}}\\n\\\\newcommand{\\\\perm}{\\\\mathsf{perm}}\\n\\\\newcommand{\\\\dxor}{\\\\Delta_{\\\\xor}}\\n\\\\newcommand{\\\\dperm}{\\\\Delta_{\\\\perm}}\\n\\\\newcommand{\\\\dphase}{\\\\Delta_{\\\\phase}}\\n\\\\DeclareMathOperator{\\\\lmax}{\\\\lambda_{\\\\mathsf{max}}}\\n\\\\DeclareMathOperator{\\\\adv}{ADV}\\n\\n\\\\DeclareMathOperator{\\\\qb}{Q_{\\\\mathsf{BE}}}\\n\\\\DeclareMathOperator{\\\\ql}{Q_{\\\\mathsf{LV}}}\\n\\\\DeclareMathOperator{\\\\qbperm}{Q_{\\\\mathsf{BE}}^{\\\\perm}}\\n\\\\DeclareMathOperator{\\\\qlperm}{Q_{\\\\mathsf{LV}}^{\\\\perm}}\\n\\\\DeclareMathOperator{\\\\qbxor}{Q_{\\\\mathsf{BE}}^{\\\\xor}}\\n\\\\DeclareMathOperator{\\\\qlxor}{Q_{\\\\mathsf{LV}}^{\\\\xor}}\\n\\\\DeclareMathOperator{\\\\qbphase}{Q_{\\\\mathsf{BE}}^{\\\\phase}}\\n\\\\DeclareMathOperator{\\\\qlphase}{Q_{\\\\mathsf{LV}}^{\\\\phase}}\\n\\\\DeclareMathOperator{\\\\relgext}{\\\\overrightarrow{\\\\gamma_2}^{\\\\mathsf{ext}}}\\n\\\\DeclareMathOperator{\\\\relgstd}{\\\\overrightarrow{\\\\gamma_2}^{\\\\mathsf{std}}}', placeholder_text='YourTextHere', post_doc_commands='')"
      ]
     },
     "execution_count": 2,
     "metadata": {},
     "output_type": "execute_result"
    }
   ],
   "source": [
    "# Preamble\n",
    "preamble_path = \"/home/ronakr/Documents/inplaceoracles/Inverting-a-Permutation-with-an-In-Place-Oracle/preamble.tex\"\n",
    "with open(preamble_path, 'r') as file:\n",
    "    preamble = file.read()\n",
    "myTemplate = TexTemplate()\n",
    "myTemplate.add_to_preamble(preamble)"
   ]
  },
  {
   "cell_type": "markdown",
   "id": "7f49b548",
   "metadata": {},
   "source": [
    "### Sanity Check"
   ]
  },
  {
   "cell_type": "code",
   "execution_count": null,
   "id": "303e28c4",
   "metadata": {},
   "outputs": [],
   "source": [
    "%%manim -ql SanityCheck\n",
    "\n",
    "class SanityCheck(Scene):\n",
    "    def construct(self):\n",
    "        s0 = MathTex(r\"a\")\n",
    "        s1 = MathTex(r\"\\frac{a}{b}\")\n",
    "        s2 = MathTex(r\"\\frac{b}{a}\")\n",
    "        tms0 = TransformMatchingShapes(s0,s1, key_map={-6351953992051140758:8757917165807693890})\n",
    "        tms = TransformMatchingShapes(s1,s2)#, key_map={-6351953992051140758:8757917165807693890})\n",
    "        # s1a = tms.get_mobject_key(tms.get_mobject_parts(s1)[0])\n",
    "        # s2l = tms.get_mobject_key(tms.get_mobject_parts(s2)[1])\n",
    "        # tms.key_map = {s1a:s2l}\n",
    "        print(tms0.get_mobject_parts(s0))\n",
    "        print(tms0.get_mobject_parts(s1))\n",
    "        print(tms0.get_mobject_key(tms0.get_mobject_parts(s0)[0]))\n",
    "        print(tms0.get_mobject_key(tms0.get_mobject_parts(s1)[0]))\n",
    "        print(tms0.get_mobject_key(tms0.get_mobject_parts(s1)[1]))\n",
    "        print(tms0.get_mobject_key(tms0.get_mobject_parts(s1)[2]))\n",
    "\n",
    "        print(tms.get_mobject_parts(s1))\n",
    "        print(tms.get_mobject_parts(s2))\n",
    "\n",
    "        print(tms.get_mobject_key(tms.get_mobject_parts(s1)[0]))\n",
    "        print(tms.get_mobject_key(tms.get_mobject_parts(s1)[1]))\n",
    "        print(tms.get_mobject_key(tms.get_mobject_parts(s1)[2]))\n",
    "        print(tms.get_mobject_key(tms.get_mobject_parts(s2)[0]))\n",
    "        print(tms.get_mobject_key(tms.get_mobject_parts(s2)[1]))\n",
    "        print(tms.get_mobject_key(tms.get_mobject_parts(s2)[2]))\n",
    "        self.play(tms0)\n",
    "        self.play(tms)"
   ]
  },
  {
   "cell_type": "markdown",
   "id": "e6d5ed1b",
   "metadata": {},
   "source": [
    "### Query Complexity (motivation)\n",
    "- What is a problem? \n",
    "  - Input: some f, Output: some property of f. \n",
    "  - Egs: \n",
    "    - (1) Given: N-bit integer. Output: is it nonzero? (show arrow to \"integer\", saying f : [N] -> {0,1}, transform) \n",
    "      (show after (2)) Given: function f : [N] -> {0,1}. Output: is there an x such that f(x) = 1?\n",
    "      mention this is \"searching for a 1\"\n",
    "    - (2) Given: a shuffled deck of cards labeled {1,...,N}. Output: location of the \"1\" card.\n",
    "      Given permutation f: [N] -> [N]. Output: x such that f(x) = 1.\n",
    "- \"In Complexity theory we often care about how much time the best algorithm to solve a problem would take as the size of the input (N) increases\"\n",
    "- \"That's really hard to lower bound. The best technique we have is query complexity.\"\n",
    "- In query cxty, we imagine the input is behind a paywall, and we need to pay an oracle every time we want to access bits of it. (oracle pic)\n",
    "  - I will tell the oracle x and the oracle will tell me f(x), each request is called a query\n",
    "  <!-- the label of the xth card in the deck. (exchange) -->\n",
    "  - It's fairly intuitive that, for these specific problems above, N queries are necessary classically, (implying an Omega(N) lower bound on time?).\n",
    "  - How do we do quantum query complexity? \n",
    "    - Our first thought might be |x> -> |f(x)>. \n",
    "      - Violates QM if f is not reversible. \n",
    "    - Solution: |x>|a> -> |x>|a + f(x)>. -self inverse -equiv to phase oracles\n",
    "    - Okay, but what if f is a permutation? \n",
    "    - Then |x> -> |f(x)> is fine, called in-place queries.\n",
    "\n",
    "### Key Question of this talk\n",
    "- Given a permutation f, how do XOR queries and in-place queries to f compare?\n",
    "  \n",
    "  <!-- however, the ability to make multiple queries in superposition lets us find \"1\" with O(sqrt(N)) queries, through what's called Grover's algorithm\n",
    "  - Understanding this alg is crucial to understanding our alg, so let's briefly review -->\n",
    "\n",
    "### Table of comparisons\n",
    "- If we have access to both f and f^{-1}, then both models can simulate the other\n",
    "- Omega(sqrt(N)) XOR queries required to exactly simulate an in-place query\n",
    "  - In this paper: Omega(sqrt(N)) in-place to XOR\n",
    "- IndexErasure (state conversion) O(sqrt(N)) vs O(1)\n",
    "  - states of the form |x>|f(x)> -> |0>|f(x)>\n",
    "- SetComp (promise decision problem) O(N^{1/7}) vs O(1)\n",
    "  - venn diagram highlighting: two large sets are the same or have large symmetric difference\n",
    "- Unstructured search (search problem) O(sqrt(N)) vs conjectured Omega(N). (cross out conj, write ours) In this paper: O(sqrt(N)).\n",
    "  - N shuffled cards, locate \"1\"\n",
    "- Trashy Simon's (promise search problem) O(log(N)) vs conjectured Omega(sqrt(N)) ### TODO: verify sqrt(N) correct!\n",
    "\n",
    "### Grover's\n",
    "- Our problem: Given a shuffled deck of cards labeled [N], find 1. \n",
    "- (Show 12345 example truth table with f, circle inv of 1) \n",
    "- (transform problem) given a permutation f : [N] -> [N], find x^* := f^{-1}(1).\n",
    "- (disappear truth table)\n",
    "- In Grover's algorithm, we start off with a uniform superposition over all x in [N] (bar chart)\n",
    "- Repeatedly alternate between the following two operations:\n",
    "  - Query, which negates the amplitude on x^* (flip)\n",
    "  - Grover's Diffusion operator, which flips all amplitudes about their average (draw line, flip)\n",
    "  - (quickly evolve a few times until x^* peaks) after ~sqrt N iterations of this, we will have made ~sqrt N queries and the probability of seeing x^* when we measure.\n",
    "\n",
    "### Where Grover's fails\n",
    "- key step is being able to take |x> -> (-1)^{f(x) = 1} |x>\n",
    "- |x>|0> -> |x>|f(x)> -> (-1)^{f(x) = 1}|x>|f(x)> (->) |x>|0>  <- function erasure is hard\n",
    "- Without being able to erase f, interference fails\n",
    "\n",
    "\n",
    "### Kashefi\n",
    "- \n",
    "- Key fact: perm inv LBs for both Sf [Ambainis] and Pf [FK18]\n",
    "\n",
    "### Kashefi Pfs (3 slides)\n",
    "- Inverting circuits\n",
    "- Kashefi arg (|x>|a> -[Sf]- |x>|f(x)> in corner so we can flip it to drive home that Sf inv = Sf)\n",
    "- Our arg (|x> -[Pf]- |f(x)> in corner so we can flip it to drive home that Pf inv = P{f_inv})\n",
    "- => function erasure is hard (analog of index erasure)\n",
    "\n",
    "### Sf Pf box\n",
    "- Grovers + Kashefi => O(sqrt(N)) XOR to in-place\n",
    "- Our Alg + our arg => O(sqrt(N)) in-place to XOR\n",
    "\n",
    "### Summary\n",
    "- Unstructured Search takes Theta(sqrt(N)) queries (in-place or XOR) (algorithm)\n",
    "- Function Erasure takes O(1) XOR Queries and O(sqrt(N)) in-place queries (kashefi)\n",
    "- More generally, Sf Pf Sfinv Pfinv all req sqrt(N) queries to simulate each other\n",
    "- Future work: decision problem separations\n",
    "  - candidates: simon, emb perm inv\n"
   ]
  },
  {
   "cell_type": "markdown",
   "id": "16bd586c",
   "metadata": {},
   "source": [
    "### TitleSlide"
   ]
  },
  {
   "cell_type": "code",
   "execution_count": null,
   "id": "74814434",
   "metadata": {},
   "outputs": [],
   "source": [
    "%%manim -qm TitleSlide1\n",
    "\n",
    "class TitleSlide1(Slide):\n",
    "    def construct(self):\n",
    "        self.wait_time_between_slides = 1\n",
    "        title = Text(\"Quantum Search with In-Place Queries\")\n",
    "        subtitle = Text(\"Blake Holman, Ronak Ramachandran, and Justin Yirka\", t2w={'Ronak Ramachandran':BOLD}).scale(0.5)\n",
    "        subtitle.next_to(title, DOWN, buff=0.8)\n",
    "        self.play(Add(title), Write(subtitle))\n",
    "        self.next_slide()"
   ]
  },
  {
   "cell_type": "markdown",
   "id": "c66e897c",
   "metadata": {},
   "source": [
    "### XORvsInPlace"
   ]
  },
  {
   "cell_type": "code",
   "execution_count": null,
   "id": "866ad248",
   "metadata": {},
   "outputs": [],
   "source": [
    "%%manim -ql XORvsInPlace\n",
    "\n",
    "class XORvsInPlace(Slide):\n",
    "    def construct(self):\n",
    "        self.wait_time_between_slides = 1\n",
    "        \n",
    "        \n",
    "        xor_bullets = [\n",
    "            MathTex(r\"\\ket{x}\\ket{a} \\rightarrow \\ket{x}\\ket{f(x)}\", tex_template=myTemplate),\n",
    "            Text(\"Any f\"),\n",
    "            Text(\"Can erase f(x)\"),\n",
    "            Text(\"Self-inverse\"),\n",
    "            Text(\"Phase version\")\n",
    "        ]\n",
    "        inplace_bullets = [\n",
    "            MathTex(r\"\\ket{x} \\rightarrow \\ket{f(x)}\", tex_template=myTemplate),\n",
    "            Text(\"Bijections\"),\n",
    "            Text(\"Can erase x\")\n",
    "        ]\n",
    "        \n",
    "        xor_group = VGroup(*xor_bullets).arrange(DOWN)\n",
    "        inplace_group = VGroup(*inplace_bullets).arrange(DOWN)\n",
    "\n",
    "        tchart = MobjectTable(\n",
    "            [[xor_group, inplace_group]],\n",
    "            col_labels=[Text(\"XOR\"), Text(\"In-Place\")],\n",
    "            arrange_in_grid_config={\"row_alignments\":'uu'})\n",
    "\n",
    "        self.play(\n",
    "            Write(tchart.get_horizontal_lines()), \n",
    "            Write(tchart.get_vertical_lines()),\n",
    "            Write(tchart.get_col_labels()))\n",
    "        self.next_slide()\n",
    "\n",
    "        for i in range(len(xor_bullets)):\n",
    "            self.play(Write(xor_bullets[i]))\n",
    "            self.next_slide()\n",
    "\n",
    "            if i < len(inplace_bullets):\n",
    "                self.play(Write(inplace_bullets[i]))\n",
    "                self.next_slide()"
   ]
  },
  {
   "cell_type": "markdown",
   "id": "b84a2f88",
   "metadata": {},
   "source": [
    "### Inverting Circuits"
   ]
  },
  {
   "cell_type": "code",
   "execution_count": 13,
   "id": "564dc939",
   "metadata": {},
   "outputs": [],
   "source": [
    "def _flip(x,y,z,t):\n",
    "    return (np.cos(t*np.pi)*x, 0.5*x*np.sin(t*np.pi)+y, z)\n",
    "\n",
    "def Flip(mobject=None, *vargs, **kwargs):\n",
    "    return Homotopy(_flip, mobject, *vargs, **kwargs)"
   ]
  },
  {
   "cell_type": "code",
   "execution_count": 3,
   "id": "910a69b8",
   "metadata": {},
   "outputs": [],
   "source": [
    "def FlipTransform(self, mobject_from=None, mobject_to=None):\n",
    "    self.play(Homotopy(lambda x,y,z,t : (np.cos(t*np.pi/2)*x, y + 0.2*x*np.sin(t*np.pi/2), z), mobject_from, rate_func=rush_into, run_time=0.8))\n",
    "    self.play(Homotopy(lambda x,y,z,t : (np.sin(t*np.pi/2)*x, y - 0.2*x*np.cos(t*np.pi/2), z), mobject_to, rate_func=rush_from, run_time=0.8))"
   ]
  },
  {
   "cell_type": "code",
   "execution_count": 10,
   "id": "16d5fdaa",
   "metadata": {},
   "outputs": [
    {
     "data": {
      "text/html": [
       "<pre style=\"white-space:pre;overflow-x:auto;line-height:normal;font-family:Menlo,'DejaVu Sans Mono',consolas,'Courier New',monospace\">Manim Community <span style=\"color: #008000; text-decoration-color: #008000\">v0.19.0</span>\n",
       "\n",
       "</pre>\n"
      ],
      "text/plain": [
       "Manim Community \u001b[32mv0.\u001b[0m\u001b[32m19.0\u001b[0m\n",
       "\n"
      ]
     },
     "metadata": {},
     "output_type": "display_data"
    },
    {
     "data": {
      "text/html": [
       "<pre style=\"white-space:pre;overflow-x:auto;line-height:normal;font-family:Menlo,'DejaVu Sans Mono',consolas,'Courier New',monospace\"><span style=\"color: #7fbfbf; text-decoration-color: #7fbfbf\">[07/03/25 22:52:33] </span><span style=\"color: #008000; text-decoration-color: #008000\">INFO    </span> Animation <span style=\"color: #008000; text-decoration-color: #008000\">0</span> : Using cached data <span style=\"font-weight: bold\">(</span>hash :                           <a href=\"file:///home/ronakr/Documents/manimations/.venv/lib/python3.13/site-packages/manim/renderer/cairo_renderer.py\" target=\"_blank\"><span style=\"color: #7f7f7f; text-decoration-color: #7f7f7f\">cairo_renderer.py</span></a><span style=\"color: #7f7f7f; text-decoration-color: #7f7f7f\">:</span><a href=\"file:///home/ronakr/Documents/manimations/.venv/lib/python3.13/site-packages/manim/renderer/cairo_renderer.py#89\" target=\"_blank\"><span style=\"color: #7f7f7f; text-decoration-color: #7f7f7f\">89</span></a>\n",
       "<span style=\"color: #7fbfbf; text-decoration-color: #7fbfbf\">                    </span>         1749642518_2614666737_223132457<span style=\"font-weight: bold\">)</span>                                  <span style=\"color: #7f7f7f; text-decoration-color: #7f7f7f\">                    </span>\n",
       "</pre>\n"
      ],
      "text/plain": [
       "\u001b[2;36m[07/03/25 22:52:33]\u001b[0m\u001b[2;36m \u001b[0m\u001b[32mINFO    \u001b[0m Animation \u001b[32m0\u001b[0m : Using cached data \u001b[1m(\u001b[0mhash :                           \u001b]8;id=320095;file:///home/ronakr/Documents/manimations/.venv/lib/python3.13/site-packages/manim/renderer/cairo_renderer.py\u001b\\\u001b[2mcairo_renderer.py\u001b[0m\u001b]8;;\u001b\\\u001b[2m:\u001b[0m\u001b]8;id=195527;file:///home/ronakr/Documents/manimations/.venv/lib/python3.13/site-packages/manim/renderer/cairo_renderer.py#89\u001b\\\u001b[2m89\u001b[0m\u001b]8;;\u001b\\\n",
       "\u001b[2;36m                    \u001b[0m         1749642518_2614666737_223132457\u001b[1m)\u001b[0m                                  \u001b[2m                    \u001b[0m\n"
      ]
     },
     "metadata": {},
     "output_type": "display_data"
    },
    {
     "name": "stderr",
     "output_type": "stream",
     "text": [
      "                                                                                  \r"
     ]
    },
    {
     "data": {
      "text/html": [
       "<pre style=\"white-space:pre;overflow-x:auto;line-height:normal;font-family:Menlo,'DejaVu Sans Mono',consolas,'Courier New',monospace\"><span style=\"color: #7fbfbf; text-decoration-color: #7fbfbf\">                    </span><span style=\"color: #008000; text-decoration-color: #008000\">INFO    </span> Animation <span style=\"color: #008000; text-decoration-color: #008000\">1</span> : Using cached data <span style=\"font-weight: bold\">(</span>hash :                           <a href=\"file:///home/ronakr/Documents/manimations/.venv/lib/python3.13/site-packages/manim/renderer/cairo_renderer.py\" target=\"_blank\"><span style=\"color: #7f7f7f; text-decoration-color: #7f7f7f\">cairo_renderer.py</span></a><span style=\"color: #7f7f7f; text-decoration-color: #7f7f7f\">:</span><a href=\"file:///home/ronakr/Documents/manimations/.venv/lib/python3.13/site-packages/manim/renderer/cairo_renderer.py#89\" target=\"_blank\"><span style=\"color: #7f7f7f; text-decoration-color: #7f7f7f\">89</span></a>\n",
       "<span style=\"color: #7fbfbf; text-decoration-color: #7fbfbf\">                    </span>         1842175414_1443166991_1603388940<span style=\"font-weight: bold\">)</span>                                 <span style=\"color: #7f7f7f; text-decoration-color: #7f7f7f\">                    </span>\n",
       "</pre>\n"
      ],
      "text/plain": [
       "\u001b[2;36m                   \u001b[0m\u001b[2;36m \u001b[0m\u001b[32mINFO    \u001b[0m Animation \u001b[32m1\u001b[0m : Using cached data \u001b[1m(\u001b[0mhash :                           \u001b]8;id=235096;file:///home/ronakr/Documents/manimations/.venv/lib/python3.13/site-packages/manim/renderer/cairo_renderer.py\u001b\\\u001b[2mcairo_renderer.py\u001b[0m\u001b]8;;\u001b\\\u001b[2m:\u001b[0m\u001b]8;id=594161;file:///home/ronakr/Documents/manimations/.venv/lib/python3.13/site-packages/manim/renderer/cairo_renderer.py#89\u001b\\\u001b[2m89\u001b[0m\u001b]8;;\u001b\\\n",
       "\u001b[2;36m                    \u001b[0m         1842175414_1443166991_1603388940\u001b[1m)\u001b[0m                                 \u001b[2m                    \u001b[0m\n"
      ]
     },
     "metadata": {},
     "output_type": "display_data"
    },
    {
     "data": {
      "text/html": [
       "<pre style=\"white-space:pre;overflow-x:auto;line-height:normal;font-family:Menlo,'DejaVu Sans Mono',consolas,'Courier New',monospace\"><span style=\"color: #7fbfbf; text-decoration-color: #7fbfbf\">                    </span><span style=\"color: #008000; text-decoration-color: #008000\">INFO    </span> Animation <span style=\"color: #008000; text-decoration-color: #008000\">2</span> : Using cached data <span style=\"font-weight: bold\">(</span>hash :                           <a href=\"file:///home/ronakr/Documents/manimations/.venv/lib/python3.13/site-packages/manim/renderer/cairo_renderer.py\" target=\"_blank\"><span style=\"color: #7f7f7f; text-decoration-color: #7f7f7f\">cairo_renderer.py</span></a><span style=\"color: #7f7f7f; text-decoration-color: #7f7f7f\">:</span><a href=\"file:///home/ronakr/Documents/manimations/.venv/lib/python3.13/site-packages/manim/renderer/cairo_renderer.py#89\" target=\"_blank\"><span style=\"color: #7f7f7f; text-decoration-color: #7f7f7f\">89</span></a>\n",
       "<span style=\"color: #7fbfbf; text-decoration-color: #7fbfbf\">                    </span>         1842175414_629272221_2375220172<span style=\"font-weight: bold\">)</span>                                  <span style=\"color: #7f7f7f; text-decoration-color: #7f7f7f\">                    </span>\n",
       "</pre>\n"
      ],
      "text/plain": [
       "\u001b[2;36m                   \u001b[0m\u001b[2;36m \u001b[0m\u001b[32mINFO    \u001b[0m Animation \u001b[32m2\u001b[0m : Using cached data \u001b[1m(\u001b[0mhash :                           \u001b]8;id=212251;file:///home/ronakr/Documents/manimations/.venv/lib/python3.13/site-packages/manim/renderer/cairo_renderer.py\u001b\\\u001b[2mcairo_renderer.py\u001b[0m\u001b]8;;\u001b\\\u001b[2m:\u001b[0m\u001b]8;id=264187;file:///home/ronakr/Documents/manimations/.venv/lib/python3.13/site-packages/manim/renderer/cairo_renderer.py#89\u001b\\\u001b[2m89\u001b[0m\u001b]8;;\u001b\\\n",
       "\u001b[2;36m                    \u001b[0m         1842175414_629272221_2375220172\u001b[1m)\u001b[0m                                  \u001b[2m                    \u001b[0m\n"
      ]
     },
     "metadata": {},
     "output_type": "display_data"
    },
    {
     "name": "stderr",
     "output_type": "stream",
     "text": [
      "                                                                                     \r"
     ]
    },
    {
     "data": {
      "text/html": [
       "<pre style=\"white-space:pre;overflow-x:auto;line-height:normal;font-family:Menlo,'DejaVu Sans Mono',consolas,'Courier New',monospace\"><span style=\"color: #7fbfbf; text-decoration-color: #7fbfbf\">                    </span><span style=\"color: #008000; text-decoration-color: #008000\">INFO    </span> Animation <span style=\"color: #008000; text-decoration-color: #008000\">3</span> : Using cached data <span style=\"font-weight: bold\">(</span>hash :                           <a href=\"file:///home/ronakr/Documents/manimations/.venv/lib/python3.13/site-packages/manim/renderer/cairo_renderer.py\" target=\"_blank\"><span style=\"color: #7f7f7f; text-decoration-color: #7f7f7f\">cairo_renderer.py</span></a><span style=\"color: #7f7f7f; text-decoration-color: #7f7f7f\">:</span><a href=\"file:///home/ronakr/Documents/manimations/.venv/lib/python3.13/site-packages/manim/renderer/cairo_renderer.py#89\" target=\"_blank\"><span style=\"color: #7f7f7f; text-decoration-color: #7f7f7f\">89</span></a>\n",
       "<span style=\"color: #7fbfbf; text-decoration-color: #7fbfbf\">                    </span>         1842175414_4088823500_2893859708<span style=\"font-weight: bold\">)</span>                                 <span style=\"color: #7f7f7f; text-decoration-color: #7f7f7f\">                    </span>\n",
       "</pre>\n"
      ],
      "text/plain": [
       "\u001b[2;36m                   \u001b[0m\u001b[2;36m \u001b[0m\u001b[32mINFO    \u001b[0m Animation \u001b[32m3\u001b[0m : Using cached data \u001b[1m(\u001b[0mhash :                           \u001b]8;id=575684;file:///home/ronakr/Documents/manimations/.venv/lib/python3.13/site-packages/manim/renderer/cairo_renderer.py\u001b\\\u001b[2mcairo_renderer.py\u001b[0m\u001b]8;;\u001b\\\u001b[2m:\u001b[0m\u001b]8;id=704024;file:///home/ronakr/Documents/manimations/.venv/lib/python3.13/site-packages/manim/renderer/cairo_renderer.py#89\u001b\\\u001b[2m89\u001b[0m\u001b]8;;\u001b\\\n",
       "\u001b[2;36m                    \u001b[0m         1842175414_4088823500_2893859708\u001b[1m)\u001b[0m                                 \u001b[2m                    \u001b[0m\n"
      ]
     },
     "metadata": {},
     "output_type": "display_data"
    },
    {
     "name": "stderr",
     "output_type": "stream",
     "text": [
      "                                                                                     \r"
     ]
    },
    {
     "data": {
      "text/html": [
       "<pre style=\"white-space:pre;overflow-x:auto;line-height:normal;font-family:Menlo,'DejaVu Sans Mono',consolas,'Courier New',monospace\"><span style=\"color: #7fbfbf; text-decoration-color: #7fbfbf\">[07/03/25 22:52:34] </span><span style=\"color: #008000; text-decoration-color: #008000\">INFO    </span> Animation <span style=\"color: #008000; text-decoration-color: #008000\">4</span> : Using cached data <span style=\"font-weight: bold\">(</span>hash :                           <a href=\"file:///home/ronakr/Documents/manimations/.venv/lib/python3.13/site-packages/manim/renderer/cairo_renderer.py\" target=\"_blank\"><span style=\"color: #7f7f7f; text-decoration-color: #7f7f7f\">cairo_renderer.py</span></a><span style=\"color: #7f7f7f; text-decoration-color: #7f7f7f\">:</span><a href=\"file:///home/ronakr/Documents/manimations/.venv/lib/python3.13/site-packages/manim/renderer/cairo_renderer.py#89\" target=\"_blank\"><span style=\"color: #7f7f7f; text-decoration-color: #7f7f7f\">89</span></a>\n",
       "<span style=\"color: #7fbfbf; text-decoration-color: #7fbfbf\">                    </span>         1842175414_1443166991_4100766922<span style=\"font-weight: bold\">)</span>                                 <span style=\"color: #7f7f7f; text-decoration-color: #7f7f7f\">                    </span>\n",
       "</pre>\n"
      ],
      "text/plain": [
       "\u001b[2;36m[07/03/25 22:52:34]\u001b[0m\u001b[2;36m \u001b[0m\u001b[32mINFO    \u001b[0m Animation \u001b[32m4\u001b[0m : Using cached data \u001b[1m(\u001b[0mhash :                           \u001b]8;id=864370;file:///home/ronakr/Documents/manimations/.venv/lib/python3.13/site-packages/manim/renderer/cairo_renderer.py\u001b\\\u001b[2mcairo_renderer.py\u001b[0m\u001b]8;;\u001b\\\u001b[2m:\u001b[0m\u001b]8;id=829014;file:///home/ronakr/Documents/manimations/.venv/lib/python3.13/site-packages/manim/renderer/cairo_renderer.py#89\u001b\\\u001b[2m89\u001b[0m\u001b]8;;\u001b\\\n",
       "\u001b[2;36m                    \u001b[0m         1842175414_1443166991_4100766922\u001b[1m)\u001b[0m                                 \u001b[2m                    \u001b[0m\n"
      ]
     },
     "metadata": {},
     "output_type": "display_data"
    },
    {
     "name": "stderr",
     "output_type": "stream",
     "text": [
      "                                                                                                 \r"
     ]
    },
    {
     "data": {
      "text/html": [
       "<pre style=\"white-space:pre;overflow-x:auto;line-height:normal;font-family:Menlo,'DejaVu Sans Mono',consolas,'Courier New',monospace\"><span style=\"color: #7fbfbf; text-decoration-color: #7fbfbf\">[07/03/25 22:52:35] </span><span style=\"color: #008000; text-decoration-color: #008000\">INFO    </span> Animation <span style=\"color: #008000; text-decoration-color: #008000\">5</span> : Partial movie file written in                   <a href=\"file:///home/ronakr/Documents/manimations/.venv/lib/python3.13/site-packages/manim/scene/scene_file_writer.py\" target=\"_blank\"><span style=\"color: #7f7f7f; text-decoration-color: #7f7f7f\">scene_file_writer.py</span></a><span style=\"color: #7f7f7f; text-decoration-color: #7f7f7f\">:</span><a href=\"file:///home/ronakr/Documents/manimations/.venv/lib/python3.13/site-packages/manim/scene/scene_file_writer.py#588\" target=\"_blank\"><span style=\"color: #7f7f7f; text-decoration-color: #7f7f7f\">588</span></a>\n",
       "<span style=\"color: #7fbfbf; text-decoration-color: #7fbfbf\">                    </span>         <span style=\"color: #008000; text-decoration-color: #008000\">'/home/ronakr/Documents/m</span><span style=\"color: #808000; text-decoration-color: #808000; font-weight: bold\">animations</span><span style=\"color: #008000; text-decoration-color: #008000\">/media/videos/m</span><span style=\"color: #808000; text-decoration-color: #808000; font-weight: bold\">animations</span><span style=\"color: #008000; text-decoration-color: #008000\">/</span> <span style=\"color: #7f7f7f; text-decoration-color: #7f7f7f\">                        </span>\n",
       "<span style=\"color: #7fbfbf; text-decoration-color: #7fbfbf\">                    </span>         <span style=\"color: #008000; text-decoration-color: #008000\">480p15/partial_movie_files/InvertingCircuits1/1842175414_3038</span> <span style=\"color: #7f7f7f; text-decoration-color: #7f7f7f\">                        </span>\n",
       "<span style=\"color: #7fbfbf; text-decoration-color: #7fbfbf\">                    </span>         <span style=\"color: #008000; text-decoration-color: #008000\">416641_41039709.mp4'</span>                                          <span style=\"color: #7f7f7f; text-decoration-color: #7f7f7f\">                        </span>\n",
       "</pre>\n"
      ],
      "text/plain": [
       "\u001b[2;36m[07/03/25 22:52:35]\u001b[0m\u001b[2;36m \u001b[0m\u001b[32mINFO    \u001b[0m Animation \u001b[32m5\u001b[0m : Partial movie file written in                   \u001b]8;id=990066;file:///home/ronakr/Documents/manimations/.venv/lib/python3.13/site-packages/manim/scene/scene_file_writer.py\u001b\\\u001b[2mscene_file_writer.py\u001b[0m\u001b]8;;\u001b\\\u001b[2m:\u001b[0m\u001b]8;id=284261;file:///home/ronakr/Documents/manimations/.venv/lib/python3.13/site-packages/manim/scene/scene_file_writer.py#588\u001b\\\u001b[2m588\u001b[0m\u001b]8;;\u001b\\\n",
       "\u001b[2;36m                    \u001b[0m         \u001b[32m'/home/ronakr/Documents/m\u001b[0m\u001b[1;33manimations\u001b[0m\u001b[32m/media/videos/m\u001b[0m\u001b[1;33manimations\u001b[0m\u001b[32m/\u001b[0m \u001b[2m                        \u001b[0m\n",
       "\u001b[2;36m                    \u001b[0m         \u001b[32m480p15/partial_movie_files/InvertingCircuits1/1842175414_3038\u001b[0m \u001b[2m                        \u001b[0m\n",
       "\u001b[2;36m                    \u001b[0m         \u001b[32m416641_41039709.mp4'\u001b[0m                                          \u001b[2m                        \u001b[0m\n"
      ]
     },
     "metadata": {},
     "output_type": "display_data"
    },
    {
     "data": {
      "text/html": [
       "<pre style=\"white-space:pre;overflow-x:auto;line-height:normal;font-family:Menlo,'DejaVu Sans Mono',consolas,'Courier New',monospace\"><span style=\"color: #7fbfbf; text-decoration-color: #7fbfbf\">                    </span><span style=\"color: #008000; text-decoration-color: #008000\">INFO    </span> Animation <span style=\"color: #008000; text-decoration-color: #008000\">6</span> : Partial movie file written in                   <a href=\"file:///home/ronakr/Documents/manimations/.venv/lib/python3.13/site-packages/manim/scene/scene_file_writer.py\" target=\"_blank\"><span style=\"color: #7f7f7f; text-decoration-color: #7f7f7f\">scene_file_writer.py</span></a><span style=\"color: #7f7f7f; text-decoration-color: #7f7f7f\">:</span><a href=\"file:///home/ronakr/Documents/manimations/.venv/lib/python3.13/site-packages/manim/scene/scene_file_writer.py#588\" target=\"_blank\"><span style=\"color: #7f7f7f; text-decoration-color: #7f7f7f\">588</span></a>\n",
       "<span style=\"color: #7fbfbf; text-decoration-color: #7fbfbf\">                    </span>         <span style=\"color: #008000; text-decoration-color: #008000\">'/home/ronakr/Documents/m</span><span style=\"color: #808000; text-decoration-color: #808000; font-weight: bold\">animations</span><span style=\"color: #008000; text-decoration-color: #008000\">/media/videos/m</span><span style=\"color: #808000; text-decoration-color: #808000; font-weight: bold\">animations</span><span style=\"color: #008000; text-decoration-color: #008000\">/</span> <span style=\"color: #7f7f7f; text-decoration-color: #7f7f7f\">                        </span>\n",
       "<span style=\"color: #7fbfbf; text-decoration-color: #7fbfbf\">                    </span>         <span style=\"color: #008000; text-decoration-color: #008000\">480p15/partial_movie_files/InvertingCircuits1/1842175414_1443</span> <span style=\"color: #7f7f7f; text-decoration-color: #7f7f7f\">                        </span>\n",
       "<span style=\"color: #7fbfbf; text-decoration-color: #7fbfbf\">                    </span>         <span style=\"color: #008000; text-decoration-color: #008000\">166991_1771860540.mp4'</span>                                        <span style=\"color: #7f7f7f; text-decoration-color: #7f7f7f\">                        </span>\n",
       "</pre>\n"
      ],
      "text/plain": [
       "\u001b[2;36m                   \u001b[0m\u001b[2;36m \u001b[0m\u001b[32mINFO    \u001b[0m Animation \u001b[32m6\u001b[0m : Partial movie file written in                   \u001b]8;id=297354;file:///home/ronakr/Documents/manimations/.venv/lib/python3.13/site-packages/manim/scene/scene_file_writer.py\u001b\\\u001b[2mscene_file_writer.py\u001b[0m\u001b]8;;\u001b\\\u001b[2m:\u001b[0m\u001b]8;id=636788;file:///home/ronakr/Documents/manimations/.venv/lib/python3.13/site-packages/manim/scene/scene_file_writer.py#588\u001b\\\u001b[2m588\u001b[0m\u001b]8;;\u001b\\\n",
       "\u001b[2;36m                    \u001b[0m         \u001b[32m'/home/ronakr/Documents/m\u001b[0m\u001b[1;33manimations\u001b[0m\u001b[32m/media/videos/m\u001b[0m\u001b[1;33manimations\u001b[0m\u001b[32m/\u001b[0m \u001b[2m                        \u001b[0m\n",
       "\u001b[2;36m                    \u001b[0m         \u001b[32m480p15/partial_movie_files/InvertingCircuits1/1842175414_1443\u001b[0m \u001b[2m                        \u001b[0m\n",
       "\u001b[2;36m                    \u001b[0m         \u001b[32m166991_1771860540.mp4'\u001b[0m                                        \u001b[2m                        \u001b[0m\n"
      ]
     },
     "metadata": {},
     "output_type": "display_data"
    },
    {
     "data": {
      "text/html": [
       "<pre style=\"white-space:pre;overflow-x:auto;line-height:normal;font-family:Menlo,'DejaVu Sans Mono',consolas,'Courier New',monospace\"><span style=\"color: #7fbfbf; text-decoration-color: #7fbfbf\">                    </span><span style=\"color: #008000; text-decoration-color: #008000\">INFO    </span> Combining to Movie file.                                      <a href=\"file:///home/ronakr/Documents/manimations/.venv/lib/python3.13/site-packages/manim/scene/scene_file_writer.py\" target=\"_blank\"><span style=\"color: #7f7f7f; text-decoration-color: #7f7f7f\">scene_file_writer.py</span></a><span style=\"color: #7f7f7f; text-decoration-color: #7f7f7f\">:</span><a href=\"file:///home/ronakr/Documents/manimations/.venv/lib/python3.13/site-packages/manim/scene/scene_file_writer.py#739\" target=\"_blank\"><span style=\"color: #7f7f7f; text-decoration-color: #7f7f7f\">739</span></a>\n",
       "</pre>\n"
      ],
      "text/plain": [
       "\u001b[2;36m                   \u001b[0m\u001b[2;36m \u001b[0m\u001b[32mINFO    \u001b[0m Combining to Movie file.                                      \u001b]8;id=291108;file:///home/ronakr/Documents/manimations/.venv/lib/python3.13/site-packages/manim/scene/scene_file_writer.py\u001b\\\u001b[2mscene_file_writer.py\u001b[0m\u001b]8;;\u001b\\\u001b[2m:\u001b[0m\u001b]8;id=225403;file:///home/ronakr/Documents/manimations/.venv/lib/python3.13/site-packages/manim/scene/scene_file_writer.py#739\u001b\\\u001b[2m739\u001b[0m\u001b]8;;\u001b\\\n"
      ]
     },
     "metadata": {},
     "output_type": "display_data"
    },
    {
     "data": {
      "text/html": [
       "<pre style=\"white-space:pre;overflow-x:auto;line-height:normal;font-family:Menlo,'DejaVu Sans Mono',consolas,'Courier New',monospace\"><span style=\"color: #7fbfbf; text-decoration-color: #7fbfbf\">                    </span><span style=\"color: #008000; text-decoration-color: #008000\">INFO    </span>                                                               <a href=\"file:///home/ronakr/Documents/manimations/.venv/lib/python3.13/site-packages/manim/scene/scene_file_writer.py\" target=\"_blank\"><span style=\"color: #7f7f7f; text-decoration-color: #7f7f7f\">scene_file_writer.py</span></a><span style=\"color: #7f7f7f; text-decoration-color: #7f7f7f\">:</span><a href=\"file:///home/ronakr/Documents/manimations/.venv/lib/python3.13/site-packages/manim/scene/scene_file_writer.py#886\" target=\"_blank\"><span style=\"color: #7f7f7f; text-decoration-color: #7f7f7f\">886</span></a>\n",
       "<span style=\"color: #7fbfbf; text-decoration-color: #7fbfbf\">                    </span>         <span style=\"color: #808000; text-decoration-color: #808000; font-weight: bold\">File</span> ready at                                                 <span style=\"color: #7f7f7f; text-decoration-color: #7f7f7f\">                        </span>\n",
       "<span style=\"color: #7fbfbf; text-decoration-color: #7fbfbf\">                    </span>         <span style=\"color: #008000; text-decoration-color: #008000\">'/home/ronakr/Documents/m</span><span style=\"color: #808000; text-decoration-color: #808000; font-weight: bold\">animations</span><span style=\"color: #008000; text-decoration-color: #008000\">/media/videos/m</span><span style=\"color: #808000; text-decoration-color: #808000; font-weight: bold\">animations</span><span style=\"color: #008000; text-decoration-color: #008000\">/</span> <span style=\"color: #7f7f7f; text-decoration-color: #7f7f7f\">                        </span>\n",
       "<span style=\"color: #7fbfbf; text-decoration-color: #7fbfbf\">                    </span>         <span style=\"color: #008000; text-decoration-color: #008000\">480p15/InvertingCircuits1.mp4'</span>                                <span style=\"color: #7f7f7f; text-decoration-color: #7f7f7f\">                        </span>\n",
       "<span style=\"color: #7fbfbf; text-decoration-color: #7fbfbf\">                    </span>                                                                       <span style=\"color: #7f7f7f; text-decoration-color: #7f7f7f\">                        </span>\n",
       "</pre>\n"
      ],
      "text/plain": [
       "\u001b[2;36m                   \u001b[0m\u001b[2;36m \u001b[0m\u001b[32mINFO    \u001b[0m                                                               \u001b]8;id=206037;file:///home/ronakr/Documents/manimations/.venv/lib/python3.13/site-packages/manim/scene/scene_file_writer.py\u001b\\\u001b[2mscene_file_writer.py\u001b[0m\u001b]8;;\u001b\\\u001b[2m:\u001b[0m\u001b]8;id=31674;file:///home/ronakr/Documents/manimations/.venv/lib/python3.13/site-packages/manim/scene/scene_file_writer.py#886\u001b\\\u001b[2m886\u001b[0m\u001b]8;;\u001b\\\n",
       "\u001b[2;36m                    \u001b[0m         \u001b[1;33mFile\u001b[0m ready at                                                 \u001b[2m                        \u001b[0m\n",
       "\u001b[2;36m                    \u001b[0m         \u001b[32m'/home/ronakr/Documents/m\u001b[0m\u001b[1;33manimations\u001b[0m\u001b[32m/media/videos/m\u001b[0m\u001b[1;33manimations\u001b[0m\u001b[32m/\u001b[0m \u001b[2m                        \u001b[0m\n",
       "\u001b[2;36m                    \u001b[0m         \u001b[32m480p15/InvertingCircuits1.mp4'\u001b[0m                                \u001b[2m                        \u001b[0m\n",
       "\u001b[2;36m                    \u001b[0m                                                                       \u001b[2m                        \u001b[0m\n"
      ]
     },
     "metadata": {},
     "output_type": "display_data"
    },
    {
     "data": {
      "text/html": [
       "<pre style=\"white-space:pre;overflow-x:auto;line-height:normal;font-family:Menlo,'DejaVu Sans Mono',consolas,'Courier New',monospace\"><span style=\"color: #7fbfbf; text-decoration-color: #7fbfbf\">                    </span><span style=\"color: #008000; text-decoration-color: #008000\">INFO    </span> <span style=\"color: #808000; text-decoration-color: #808000; font-weight: bold\">Rendered</span> InvertingCircuits1                                               <a href=\"file:///home/ronakr/Documents/manimations/.venv/lib/python3.13/site-packages/manim/scene/scene.py\" target=\"_blank\"><span style=\"color: #7f7f7f; text-decoration-color: #7f7f7f\">scene.py</span></a><span style=\"color: #7f7f7f; text-decoration-color: #7f7f7f\">:</span><a href=\"file:///home/ronakr/Documents/manimations/.venv/lib/python3.13/site-packages/manim/scene/scene.py#255\" target=\"_blank\"><span style=\"color: #7f7f7f; text-decoration-color: #7f7f7f\">255</span></a>\n",
       "<span style=\"color: #7fbfbf; text-decoration-color: #7fbfbf\">                    </span>         <span style=\"color: #808000; text-decoration-color: #808000; font-weight: bold\">Played</span> <span style=\"color: #008000; text-decoration-color: #008000\">7</span> <span style=\"color: #808000; text-decoration-color: #808000; font-weight: bold\">animations</span>                                                       <span style=\"color: #7f7f7f; text-decoration-color: #7f7f7f\">            </span>\n",
       "</pre>\n"
      ],
      "text/plain": [
       "\u001b[2;36m                   \u001b[0m\u001b[2;36m \u001b[0m\u001b[32mINFO    \u001b[0m \u001b[1;33mRendered\u001b[0m InvertingCircuits1                                               \u001b]8;id=288211;file:///home/ronakr/Documents/manimations/.venv/lib/python3.13/site-packages/manim/scene/scene.py\u001b\\\u001b[2mscene.py\u001b[0m\u001b]8;;\u001b\\\u001b[2m:\u001b[0m\u001b]8;id=710737;file:///home/ronakr/Documents/manimations/.venv/lib/python3.13/site-packages/manim/scene/scene.py#255\u001b\\\u001b[2m255\u001b[0m\u001b]8;;\u001b\\\n",
       "\u001b[2;36m                    \u001b[0m         \u001b[1;33mPlayed\u001b[0m \u001b[32m7\u001b[0m \u001b[1;33manimations\u001b[0m                                                       \u001b[2m            \u001b[0m\n"
      ]
     },
     "metadata": {},
     "output_type": "display_data"
    },
    {
     "name": "stderr",
     "output_type": "stream",
     "text": [
      "                                                                                                                                                    \r"
     ]
    },
    {
     "data": {
      "text/html": [
       "<pre style=\"white-space:pre;overflow-x:auto;line-height:normal;font-family:Menlo,'DejaVu Sans Mono',consolas,'Courier New',monospace\"><span style=\"color: #7fbfbf; text-decoration-color: #7fbfbf\">[07/03/25 22:52:35] </span><span style=\"color: #000080; text-decoration-color: #000080\">INFO    </span> Generated <span style=\"color: #008080; text-decoration-color: #008080; font-weight: bold\">3</span> slides to                                                      <a href=\"file:///home/ronakr/Documents/manimations/.venv/lib/python3.13/site-packages/manim_slides/slide/base.py\" target=\"_blank\"><span style=\"color: #7f7f7f; text-decoration-color: #7f7f7f\">base.py</span></a><span style=\"color: #7f7f7f; text-decoration-color: #7f7f7f\">:</span><a href=\"file:///home/ronakr/Documents/manimations/.venv/lib/python3.13/site-packages/manim_slides/slide/base.py#599\" target=\"_blank\"><span style=\"color: #7f7f7f; text-decoration-color: #7f7f7f\">599</span></a>\n",
       "<span style=\"color: #7fbfbf; text-decoration-color: #7fbfbf\">                    </span>         <span style=\"color: #008000; text-decoration-color: #008000\">'/home/ronakr/Documents/m</span><span style=\"color: #808000; text-decoration-color: #808000; font-weight: bold\">animations</span><span style=\"color: #008000; text-decoration-color: #008000\">/slides/files/InvertingCircuits1'</span>       <span style=\"color: #7f7f7f; text-decoration-color: #7f7f7f\">           </span>\n",
       "</pre>\n"
      ],
      "text/plain": [
       "\u001b[2;36m[07/03/25 22:52:35]\u001b[0m\u001b[2;36m \u001b[0m\u001b[34mINFO    \u001b[0m Generated \u001b[1;36m3\u001b[0m slides to                                                      \u001b]8;id=917071;file:///home/ronakr/Documents/manimations/.venv/lib/python3.13/site-packages/manim_slides/slide/base.py\u001b\\\u001b[2mbase.py\u001b[0m\u001b]8;;\u001b\\\u001b[2m:\u001b[0m\u001b]8;id=367397;file:///home/ronakr/Documents/manimations/.venv/lib/python3.13/site-packages/manim_slides/slide/base.py#599\u001b\\\u001b[2m599\u001b[0m\u001b]8;;\u001b\\\n",
       "\u001b[2;36m                    \u001b[0m         \u001b[32m'/home/ronakr/Documents/m\u001b[0m\u001b[1;33manimations\u001b[0m\u001b[32m/slides/files/InvertingCircuits1'\u001b[0m       \u001b[2m           \u001b[0m\n"
      ]
     },
     "metadata": {},
     "output_type": "display_data"
    },
    {
     "data": {
      "text/html": [
       "<pre style=\"white-space:pre;overflow-x:auto;line-height:normal;font-family:Menlo,'DejaVu Sans Mono',consolas,'Courier New',monospace\"><span style=\"color: #7fbfbf; text-decoration-color: #7fbfbf\">                    </span><span style=\"color: #008000; text-decoration-color: #008000\">INFO    </span> Generated <span style=\"color: #008000; text-decoration-color: #008000\">3</span> slides to                                                      <a href=\"file:///home/ronakr/Documents/manimations/.venv/lib/python3.13/site-packages/manim_slides/slide/base.py\" target=\"_blank\"><span style=\"color: #7f7f7f; text-decoration-color: #7f7f7f\">base.py</span></a><span style=\"color: #7f7f7f; text-decoration-color: #7f7f7f\">:</span><a href=\"file:///home/ronakr/Documents/manimations/.venv/lib/python3.13/site-packages/manim_slides/slide/base.py#599\" target=\"_blank\"><span style=\"color: #7f7f7f; text-decoration-color: #7f7f7f\">599</span></a>\n",
       "<span style=\"color: #7fbfbf; text-decoration-color: #7fbfbf\">                    </span>         <span style=\"color: #008000; text-decoration-color: #008000\">'/home/ronakr/Documents/m</span><span style=\"color: #808000; text-decoration-color: #808000; font-weight: bold\">animations</span><span style=\"color: #008000; text-decoration-color: #008000\">/slides/files/InvertingCircuits1'</span>       <span style=\"color: #7f7f7f; text-decoration-color: #7f7f7f\">           </span>\n",
       "</pre>\n"
      ],
      "text/plain": [
       "\u001b[2;36m                   \u001b[0m\u001b[2;36m \u001b[0m\u001b[32mINFO    \u001b[0m Generated \u001b[32m3\u001b[0m slides to                                                      \u001b]8;id=923324;file:///home/ronakr/Documents/manimations/.venv/lib/python3.13/site-packages/manim_slides/slide/base.py\u001b\\\u001b[2mbase.py\u001b[0m\u001b]8;;\u001b\\\u001b[2m:\u001b[0m\u001b]8;id=20779;file:///home/ronakr/Documents/manimations/.venv/lib/python3.13/site-packages/manim_slides/slide/base.py#599\u001b\\\u001b[2m599\u001b[0m\u001b]8;;\u001b\\\n",
       "\u001b[2;36m                    \u001b[0m         \u001b[32m'/home/ronakr/Documents/m\u001b[0m\u001b[1;33manimations\u001b[0m\u001b[32m/slides/files/InvertingCircuits1'\u001b[0m       \u001b[2m           \u001b[0m\n"
      ]
     },
     "metadata": {},
     "output_type": "display_data"
    },
    {
     "data": {
      "text/html": [
       "<pre style=\"white-space:pre;overflow-x:auto;line-height:normal;font-family:Menlo,'DejaVu Sans Mono',consolas,'Courier New',monospace\"><span style=\"color: #7fbfbf; text-decoration-color: #7fbfbf\">                    </span><span style=\"color: #000080; text-decoration-color: #000080\">INFO    </span> Slide <span style=\"color: #008000; text-decoration-color: #008000\">'InvertingCircuits1'</span> configuration written in                        <a href=\"file:///home/ronakr/Documents/manimations/.venv/lib/python3.13/site-packages/manim_slides/slide/base.py\" target=\"_blank\"><span style=\"color: #7f7f7f; text-decoration-color: #7f7f7f\">base.py</span></a><span style=\"color: #7f7f7f; text-decoration-color: #7f7f7f\">:</span><a href=\"file:///home/ronakr/Documents/manimations/.venv/lib/python3.13/site-packages/manim_slides/slide/base.py#611\" target=\"_blank\"><span style=\"color: #7f7f7f; text-decoration-color: #7f7f7f\">611</span></a>\n",
       "<span style=\"color: #7fbfbf; text-decoration-color: #7fbfbf\">                    </span>         <span style=\"color: #008000; text-decoration-color: #008000\">'/home/ronakr/Documents/m</span><span style=\"color: #808000; text-decoration-color: #808000; font-weight: bold\">animations</span><span style=\"color: #008000; text-decoration-color: #008000\">/slides/InvertingCircuits1.json'</span>        <span style=\"color: #7f7f7f; text-decoration-color: #7f7f7f\">           </span>\n",
       "</pre>\n"
      ],
      "text/plain": [
       "\u001b[2;36m                   \u001b[0m\u001b[2;36m \u001b[0m\u001b[34mINFO    \u001b[0m Slide \u001b[32m'InvertingCircuits1'\u001b[0m configuration written in                        \u001b]8;id=741528;file:///home/ronakr/Documents/manimations/.venv/lib/python3.13/site-packages/manim_slides/slide/base.py\u001b\\\u001b[2mbase.py\u001b[0m\u001b]8;;\u001b\\\u001b[2m:\u001b[0m\u001b]8;id=9517;file:///home/ronakr/Documents/manimations/.venv/lib/python3.13/site-packages/manim_slides/slide/base.py#611\u001b\\\u001b[2m611\u001b[0m\u001b]8;;\u001b\\\n",
       "\u001b[2;36m                    \u001b[0m         \u001b[32m'/home/ronakr/Documents/m\u001b[0m\u001b[1;33manimations\u001b[0m\u001b[32m/slides/InvertingCircuits1.json'\u001b[0m        \u001b[2m           \u001b[0m\n"
      ]
     },
     "metadata": {},
     "output_type": "display_data"
    },
    {
     "data": {
      "text/html": [
       "<pre style=\"white-space:pre;overflow-x:auto;line-height:normal;font-family:Menlo,'DejaVu Sans Mono',consolas,'Courier New',monospace\"><span style=\"color: #7fbfbf; text-decoration-color: #7fbfbf\">                    </span><span style=\"color: #008000; text-decoration-color: #008000\">INFO    </span> Slide <span style=\"color: #008000; text-decoration-color: #008000\">'InvertingCircuits1'</span> configuration written in                        <a href=\"file:///home/ronakr/Documents/manimations/.venv/lib/python3.13/site-packages/manim_slides/slide/base.py\" target=\"_blank\"><span style=\"color: #7f7f7f; text-decoration-color: #7f7f7f\">base.py</span></a><span style=\"color: #7f7f7f; text-decoration-color: #7f7f7f\">:</span><a href=\"file:///home/ronakr/Documents/manimations/.venv/lib/python3.13/site-packages/manim_slides/slide/base.py#611\" target=\"_blank\"><span style=\"color: #7f7f7f; text-decoration-color: #7f7f7f\">611</span></a>\n",
       "<span style=\"color: #7fbfbf; text-decoration-color: #7fbfbf\">                    </span>         <span style=\"color: #008000; text-decoration-color: #008000\">'/home/ronakr/Documents/m</span><span style=\"color: #808000; text-decoration-color: #808000; font-weight: bold\">animations</span><span style=\"color: #008000; text-decoration-color: #008000\">/slides/InvertingCircuits1.json'</span>        <span style=\"color: #7f7f7f; text-decoration-color: #7f7f7f\">           </span>\n",
       "</pre>\n"
      ],
      "text/plain": [
       "\u001b[2;36m                   \u001b[0m\u001b[2;36m \u001b[0m\u001b[32mINFO    \u001b[0m Slide \u001b[32m'InvertingCircuits1'\u001b[0m configuration written in                        \u001b]8;id=791803;file:///home/ronakr/Documents/manimations/.venv/lib/python3.13/site-packages/manim_slides/slide/base.py\u001b\\\u001b[2mbase.py\u001b[0m\u001b]8;;\u001b\\\u001b[2m:\u001b[0m\u001b]8;id=828914;file:///home/ronakr/Documents/manimations/.venv/lib/python3.13/site-packages/manim_slides/slide/base.py#611\u001b\\\u001b[2m611\u001b[0m\u001b]8;;\u001b\\\n",
       "\u001b[2;36m                    \u001b[0m         \u001b[32m'/home/ronakr/Documents/m\u001b[0m\u001b[1;33manimations\u001b[0m\u001b[32m/slides/InvertingCircuits1.json'\u001b[0m        \u001b[2m           \u001b[0m\n"
      ]
     },
     "metadata": {},
     "output_type": "display_data"
    },
    {
     "data": {
      "text/html": [
       "<video src=\"media/jupyter/InvertingCircuits1@2025-07-03@22-52-36.mp4\" controls autoplay loop style=\"max-width: 60%;\"  >\n",
       "      Your browser does not support the <code>video</code> element.\n",
       "    </video>"
      ],
      "text/plain": [
       "<IPython.core.display.Video object>"
      ]
     },
     "metadata": {},
     "output_type": "display_data"
    }
   ],
   "source": [
    "%%manim -ql InvertingCircuits1\n",
    "\n",
    "def brace_ckt(ckt, left, right):\n",
    "    bL = Brace(ckt, LEFT)\n",
    "    bLt = bL.get_tex(left)\n",
    "    bR = Brace(ckt, RIGHT)\n",
    "    bRt = bR.get_tex(right)\n",
    "    return VGroup(bL, bLt, bR, bRt)\n",
    "\n",
    "class InvertingCircuits1(Slide):\n",
    "    def construct(self):\n",
    "        self.wait_time_between_slides = 1\n",
    "\n",
    "        abcde_tex = r'''\\Qcircuit @C=0.7em @R=0.7em @!R {\n",
    "            & \\gate{A} & \\multigate{1}{C} & \\gate{D} & \\qw \\\\\n",
    "            & \\gate{B} & \\ghost{C} & \\gate{E} & \\qw\n",
    "        }'''\n",
    "        abcde_ckt = MathTex(abcde_tex, tex_template=myTemplate)\n",
    "        abcde_braces = brace_ckt(abcde_ckt, r\"|\\psi\\rangle \\rightarrow\", r\"\\rightarrow \\mathcal{C}|\\psi\\rangle\")\n",
    "        abcde = VGroup(abcde_ckt, abcde_braces)\n",
    "\n",
    "        self.play(Write(abcde))\n",
    "        self.next_slide()\n",
    "\n",
    "        inv_abcde_tex = r'''\\Qcircuit @C=0.7em @R=0.7em @!R {\n",
    "            & \\gate{D^{-1}} & \\multigate{1}{C^{-1}} & \\gate{A^{-1}} & \\qw \\\\\n",
    "            & \\gate{E^{-1}} & \\ghost{C^{-1}} & \\gate{B^{-1}} & \\qw\n",
    "        }'''\n",
    "        inv_abcde_ckt = MathTex(inv_abcde_tex, tex_template=myTemplate)\n",
    "        inv_abcde_braces = brace_ckt(inv_abcde_ckt, r\"\\mathcal{C} |\\psi\\rangle \\rightarrow\", r\"\\rightarrow |\\psi\\rangle\")\n",
    "        inv_abcde = VGroup(inv_abcde_ckt, inv_abcde_braces)\n",
    "\n",
    "        FlipTransform(self, abcde, inv_abcde)\n",
    "        self.next_slide()\n",
    "\n",
    "        new_inv_abcde_braces = brace_ckt(inv_abcde_ckt, r\"|\\psi\\rangle \\rightarrow\", r\"\\rightarrow \\mathcal{C}^{-1} |\\psi\\rangle\")\n",
    "        self.play(Transform(inv_abcde_braces, new_inv_abcde_braces))\n",
    "        # self.play(*[TransformMatchingShapes(inv_abcde_braces[i], new_inv_abcde_braces[i]) for i in (1,3)])\n",
    "        self.next_slide()\n",
    "        "
   ]
  },
  {
   "cell_type": "markdown",
   "id": "82eac688",
   "metadata": {},
   "source": [
    "### Kashefi"
   ]
  },
  {
   "cell_type": "code",
   "execution_count": 32,
   "id": "a27cf4fb",
   "metadata": {},
   "outputs": [
    {
     "data": {
      "text/html": [
       "<pre style=\"white-space:pre;overflow-x:auto;line-height:normal;font-family:Menlo,'DejaVu Sans Mono',consolas,'Courier New',monospace\">Manim Community <span style=\"color: #008000; text-decoration-color: #008000\">v0.19.0</span>\n",
       "\n",
       "</pre>\n"
      ],
      "text/plain": [
       "Manim Community \u001b[32mv0.\u001b[0m\u001b[32m19.0\u001b[0m\n",
       "\n"
      ]
     },
     "metadata": {},
     "output_type": "display_data"
    },
    {
     "data": {
      "text/html": [
       "<pre style=\"white-space:pre;overflow-x:auto;line-height:normal;font-family:Menlo,'DejaVu Sans Mono',consolas,'Courier New',monospace\"><span style=\"color: #7fbfbf; text-decoration-color: #7fbfbf\">[07/03/25 23:09:02] </span><span style=\"color: #008000; text-decoration-color: #008000\">INFO    </span> Animation <span style=\"color: #008000; text-decoration-color: #008000\">0</span> : Using cached data <span style=\"font-weight: bold\">(</span>hash :                           <a href=\"file:///home/ronakr/Documents/manimations/.venv/lib/python3.13/site-packages/manim/renderer/cairo_renderer.py\" target=\"_blank\"><span style=\"color: #7f7f7f; text-decoration-color: #7f7f7f\">cairo_renderer.py</span></a><span style=\"color: #7f7f7f; text-decoration-color: #7f7f7f\">:</span><a href=\"file:///home/ronakr/Documents/manimations/.venv/lib/python3.13/site-packages/manim/renderer/cairo_renderer.py#89\" target=\"_blank\"><span style=\"color: #7f7f7f; text-decoration-color: #7f7f7f\">89</span></a>\n",
       "<span style=\"color: #7fbfbf; text-decoration-color: #7fbfbf\">                    </span>         1749642518_3029414909_223132457<span style=\"font-weight: bold\">)</span>                                  <span style=\"color: #7f7f7f; text-decoration-color: #7f7f7f\">                    </span>\n",
       "</pre>\n"
      ],
      "text/plain": [
       "\u001b[2;36m[07/03/25 23:09:02]\u001b[0m\u001b[2;36m \u001b[0m\u001b[32mINFO    \u001b[0m Animation \u001b[32m0\u001b[0m : Using cached data \u001b[1m(\u001b[0mhash :                           \u001b]8;id=803982;file:///home/ronakr/Documents/manimations/.venv/lib/python3.13/site-packages/manim/renderer/cairo_renderer.py\u001b\\\u001b[2mcairo_renderer.py\u001b[0m\u001b]8;;\u001b\\\u001b[2m:\u001b[0m\u001b]8;id=70403;file:///home/ronakr/Documents/manimations/.venv/lib/python3.13/site-packages/manim/renderer/cairo_renderer.py#89\u001b\\\u001b[2m89\u001b[0m\u001b]8;;\u001b\\\n",
       "\u001b[2;36m                    \u001b[0m         1749642518_3029414909_223132457\u001b[1m)\u001b[0m                                  \u001b[2m                    \u001b[0m\n"
      ]
     },
     "metadata": {},
     "output_type": "display_data"
    },
    {
     "name": "stderr",
     "output_type": "stream",
     "text": [
      "                                                                                                       \r"
     ]
    },
    {
     "data": {
      "text/html": [
       "<pre style=\"white-space:pre;overflow-x:auto;line-height:normal;font-family:Menlo,'DejaVu Sans Mono',consolas,'Courier New',monospace\"><span style=\"color: #7fbfbf; text-decoration-color: #7fbfbf\">[07/03/25 23:09:03] </span><span style=\"color: #008000; text-decoration-color: #008000\">INFO    </span> Animation <span style=\"color: #008000; text-decoration-color: #008000\">1</span> : Partial movie file written in                   <a href=\"file:///home/ronakr/Documents/manimations/.venv/lib/python3.13/site-packages/manim/scene/scene_file_writer.py\" target=\"_blank\"><span style=\"color: #7f7f7f; text-decoration-color: #7f7f7f\">scene_file_writer.py</span></a><span style=\"color: #7f7f7f; text-decoration-color: #7f7f7f\">:</span><a href=\"file:///home/ronakr/Documents/manimations/.venv/lib/python3.13/site-packages/manim/scene/scene_file_writer.py#588\" target=\"_blank\"><span style=\"color: #7f7f7f; text-decoration-color: #7f7f7f\">588</span></a>\n",
       "<span style=\"color: #7fbfbf; text-decoration-color: #7fbfbf\">                    </span>         <span style=\"color: #008000; text-decoration-color: #008000\">'/home/ronakr/Documents/m</span><span style=\"color: #808000; text-decoration-color: #808000; font-weight: bold\">animations</span><span style=\"color: #008000; text-decoration-color: #008000\">/media/videos/m</span><span style=\"color: #808000; text-decoration-color: #808000; font-weight: bold\">animations</span><span style=\"color: #008000; text-decoration-color: #008000\">/</span> <span style=\"color: #7f7f7f; text-decoration-color: #7f7f7f\">                        </span>\n",
       "<span style=\"color: #7fbfbf; text-decoration-color: #7fbfbf\">                    </span>         <span style=\"color: #008000; text-decoration-color: #008000\">480p15/partial_movie_files/Kashefi/1842175414_1105763165_2023</span> <span style=\"color: #7f7f7f; text-decoration-color: #7f7f7f\">                        </span>\n",
       "<span style=\"color: #7fbfbf; text-decoration-color: #7fbfbf\">                    </span>         <span style=\"color: #008000; text-decoration-color: #008000\">860264.mp4'</span>                                                   <span style=\"color: #7f7f7f; text-decoration-color: #7f7f7f\">                        </span>\n",
       "</pre>\n"
      ],
      "text/plain": [
       "\u001b[2;36m[07/03/25 23:09:03]\u001b[0m\u001b[2;36m \u001b[0m\u001b[32mINFO    \u001b[0m Animation \u001b[32m1\u001b[0m : Partial movie file written in                   \u001b]8;id=339285;file:///home/ronakr/Documents/manimations/.venv/lib/python3.13/site-packages/manim/scene/scene_file_writer.py\u001b\\\u001b[2mscene_file_writer.py\u001b[0m\u001b]8;;\u001b\\\u001b[2m:\u001b[0m\u001b]8;id=623870;file:///home/ronakr/Documents/manimations/.venv/lib/python3.13/site-packages/manim/scene/scene_file_writer.py#588\u001b\\\u001b[2m588\u001b[0m\u001b]8;;\u001b\\\n",
       "\u001b[2;36m                    \u001b[0m         \u001b[32m'/home/ronakr/Documents/m\u001b[0m\u001b[1;33manimations\u001b[0m\u001b[32m/media/videos/m\u001b[0m\u001b[1;33manimations\u001b[0m\u001b[32m/\u001b[0m \u001b[2m                        \u001b[0m\n",
       "\u001b[2;36m                    \u001b[0m         \u001b[32m480p15/partial_movie_files/Kashefi/1842175414_1105763165_2023\u001b[0m \u001b[2m                        \u001b[0m\n",
       "\u001b[2;36m                    \u001b[0m         \u001b[32m860264.mp4'\u001b[0m                                                   \u001b[2m                        \u001b[0m\n"
      ]
     },
     "metadata": {},
     "output_type": "display_data"
    },
    {
     "data": {
      "text/html": [
       "<pre style=\"white-space:pre;overflow-x:auto;line-height:normal;font-family:Menlo,'DejaVu Sans Mono',consolas,'Courier New',monospace\"><span style=\"color: #7fbfbf; text-decoration-color: #7fbfbf\">                    </span><span style=\"color: #008000; text-decoration-color: #008000\">INFO    </span> Combining to Movie file.                                      <a href=\"file:///home/ronakr/Documents/manimations/.venv/lib/python3.13/site-packages/manim/scene/scene_file_writer.py\" target=\"_blank\"><span style=\"color: #7f7f7f; text-decoration-color: #7f7f7f\">scene_file_writer.py</span></a><span style=\"color: #7f7f7f; text-decoration-color: #7f7f7f\">:</span><a href=\"file:///home/ronakr/Documents/manimations/.venv/lib/python3.13/site-packages/manim/scene/scene_file_writer.py#739\" target=\"_blank\"><span style=\"color: #7f7f7f; text-decoration-color: #7f7f7f\">739</span></a>\n",
       "</pre>\n"
      ],
      "text/plain": [
       "\u001b[2;36m                   \u001b[0m\u001b[2;36m \u001b[0m\u001b[32mINFO    \u001b[0m Combining to Movie file.                                      \u001b]8;id=969760;file:///home/ronakr/Documents/manimations/.venv/lib/python3.13/site-packages/manim/scene/scene_file_writer.py\u001b\\\u001b[2mscene_file_writer.py\u001b[0m\u001b]8;;\u001b\\\u001b[2m:\u001b[0m\u001b]8;id=337185;file:///home/ronakr/Documents/manimations/.venv/lib/python3.13/site-packages/manim/scene/scene_file_writer.py#739\u001b\\\u001b[2m739\u001b[0m\u001b]8;;\u001b\\\n"
      ]
     },
     "metadata": {},
     "output_type": "display_data"
    },
    {
     "data": {
      "text/html": [
       "<pre style=\"white-space:pre;overflow-x:auto;line-height:normal;font-family:Menlo,'DejaVu Sans Mono',consolas,'Courier New',monospace\"><span style=\"color: #7fbfbf; text-decoration-color: #7fbfbf\">                    </span><span style=\"color: #008000; text-decoration-color: #008000\">INFO    </span>                                                               <a href=\"file:///home/ronakr/Documents/manimations/.venv/lib/python3.13/site-packages/manim/scene/scene_file_writer.py\" target=\"_blank\"><span style=\"color: #7f7f7f; text-decoration-color: #7f7f7f\">scene_file_writer.py</span></a><span style=\"color: #7f7f7f; text-decoration-color: #7f7f7f\">:</span><a href=\"file:///home/ronakr/Documents/manimations/.venv/lib/python3.13/site-packages/manim/scene/scene_file_writer.py#886\" target=\"_blank\"><span style=\"color: #7f7f7f; text-decoration-color: #7f7f7f\">886</span></a>\n",
       "<span style=\"color: #7fbfbf; text-decoration-color: #7fbfbf\">                    </span>         <span style=\"color: #808000; text-decoration-color: #808000; font-weight: bold\">File</span> ready at                                                 <span style=\"color: #7f7f7f; text-decoration-color: #7f7f7f\">                        </span>\n",
       "<span style=\"color: #7fbfbf; text-decoration-color: #7fbfbf\">                    </span>         <span style=\"color: #008000; text-decoration-color: #008000\">'/home/ronakr/Documents/m</span><span style=\"color: #808000; text-decoration-color: #808000; font-weight: bold\">animations</span><span style=\"color: #008000; text-decoration-color: #008000\">/media/videos/m</span><span style=\"color: #808000; text-decoration-color: #808000; font-weight: bold\">animations</span><span style=\"color: #008000; text-decoration-color: #008000\">/</span> <span style=\"color: #7f7f7f; text-decoration-color: #7f7f7f\">                        </span>\n",
       "<span style=\"color: #7fbfbf; text-decoration-color: #7fbfbf\">                    </span>         <span style=\"color: #008000; text-decoration-color: #008000\">480p15/Kashefi.mp4'</span>                                           <span style=\"color: #7f7f7f; text-decoration-color: #7f7f7f\">                        </span>\n",
       "<span style=\"color: #7fbfbf; text-decoration-color: #7fbfbf\">                    </span>                                                                       <span style=\"color: #7f7f7f; text-decoration-color: #7f7f7f\">                        </span>\n",
       "</pre>\n"
      ],
      "text/plain": [
       "\u001b[2;36m                   \u001b[0m\u001b[2;36m \u001b[0m\u001b[32mINFO    \u001b[0m                                                               \u001b]8;id=732874;file:///home/ronakr/Documents/manimations/.venv/lib/python3.13/site-packages/manim/scene/scene_file_writer.py\u001b\\\u001b[2mscene_file_writer.py\u001b[0m\u001b]8;;\u001b\\\u001b[2m:\u001b[0m\u001b]8;id=14305;file:///home/ronakr/Documents/manimations/.venv/lib/python3.13/site-packages/manim/scene/scene_file_writer.py#886\u001b\\\u001b[2m886\u001b[0m\u001b]8;;\u001b\\\n",
       "\u001b[2;36m                    \u001b[0m         \u001b[1;33mFile\u001b[0m ready at                                                 \u001b[2m                        \u001b[0m\n",
       "\u001b[2;36m                    \u001b[0m         \u001b[32m'/home/ronakr/Documents/m\u001b[0m\u001b[1;33manimations\u001b[0m\u001b[32m/media/videos/m\u001b[0m\u001b[1;33manimations\u001b[0m\u001b[32m/\u001b[0m \u001b[2m                        \u001b[0m\n",
       "\u001b[2;36m                    \u001b[0m         \u001b[32m480p15/Kashefi.mp4'\u001b[0m                                           \u001b[2m                        \u001b[0m\n",
       "\u001b[2;36m                    \u001b[0m                                                                       \u001b[2m                        \u001b[0m\n"
      ]
     },
     "metadata": {},
     "output_type": "display_data"
    },
    {
     "data": {
      "text/html": [
       "<pre style=\"white-space:pre;overflow-x:auto;line-height:normal;font-family:Menlo,'DejaVu Sans Mono',consolas,'Courier New',monospace\"><span style=\"color: #7fbfbf; text-decoration-color: #7fbfbf\">                    </span><span style=\"color: #008000; text-decoration-color: #008000\">INFO    </span> <span style=\"color: #808000; text-decoration-color: #808000; font-weight: bold\">Rendered</span> Kashefi                                                          <a href=\"file:///home/ronakr/Documents/manimations/.venv/lib/python3.13/site-packages/manim/scene/scene.py\" target=\"_blank\"><span style=\"color: #7f7f7f; text-decoration-color: #7f7f7f\">scene.py</span></a><span style=\"color: #7f7f7f; text-decoration-color: #7f7f7f\">:</span><a href=\"file:///home/ronakr/Documents/manimations/.venv/lib/python3.13/site-packages/manim/scene/scene.py#255\" target=\"_blank\"><span style=\"color: #7f7f7f; text-decoration-color: #7f7f7f\">255</span></a>\n",
       "<span style=\"color: #7fbfbf; text-decoration-color: #7fbfbf\">                    </span>         <span style=\"color: #808000; text-decoration-color: #808000; font-weight: bold\">Played</span> <span style=\"color: #008000; text-decoration-color: #008000\">2</span> <span style=\"color: #808000; text-decoration-color: #808000; font-weight: bold\">animations</span>                                                       <span style=\"color: #7f7f7f; text-decoration-color: #7f7f7f\">            </span>\n",
       "</pre>\n"
      ],
      "text/plain": [
       "\u001b[2;36m                   \u001b[0m\u001b[2;36m \u001b[0m\u001b[32mINFO    \u001b[0m \u001b[1;33mRendered\u001b[0m Kashefi                                                          \u001b]8;id=288923;file:///home/ronakr/Documents/manimations/.venv/lib/python3.13/site-packages/manim/scene/scene.py\u001b\\\u001b[2mscene.py\u001b[0m\u001b]8;;\u001b\\\u001b[2m:\u001b[0m\u001b]8;id=740988;file:///home/ronakr/Documents/manimations/.venv/lib/python3.13/site-packages/manim/scene/scene.py#255\u001b\\\u001b[2m255\u001b[0m\u001b]8;;\u001b\\\n",
       "\u001b[2;36m                    \u001b[0m         \u001b[1;33mPlayed\u001b[0m \u001b[32m2\u001b[0m \u001b[1;33manimations\u001b[0m                                                       \u001b[2m            \u001b[0m\n"
      ]
     },
     "metadata": {},
     "output_type": "display_data"
    },
    {
     "name": "stderr",
     "output_type": "stream",
     "text": [
      "                                                                                                                                         \r"
     ]
    },
    {
     "data": {
      "text/html": [
       "<pre style=\"white-space:pre;overflow-x:auto;line-height:normal;font-family:Menlo,'DejaVu Sans Mono',consolas,'Courier New',monospace\"><span style=\"color: #7fbfbf; text-decoration-color: #7fbfbf\">[07/03/25 23:09:04] </span><span style=\"color: #000080; text-decoration-color: #000080\">INFO    </span> Generated <span style=\"color: #008080; text-decoration-color: #008080; font-weight: bold\">1</span> slides to                                                      <a href=\"file:///home/ronakr/Documents/manimations/.venv/lib/python3.13/site-packages/manim_slides/slide/base.py\" target=\"_blank\"><span style=\"color: #7f7f7f; text-decoration-color: #7f7f7f\">base.py</span></a><span style=\"color: #7f7f7f; text-decoration-color: #7f7f7f\">:</span><a href=\"file:///home/ronakr/Documents/manimations/.venv/lib/python3.13/site-packages/manim_slides/slide/base.py#599\" target=\"_blank\"><span style=\"color: #7f7f7f; text-decoration-color: #7f7f7f\">599</span></a>\n",
       "<span style=\"color: #7fbfbf; text-decoration-color: #7fbfbf\">                    </span>         <span style=\"color: #008000; text-decoration-color: #008000\">'/home/ronakr/Documents/m</span><span style=\"color: #808000; text-decoration-color: #808000; font-weight: bold\">animations</span><span style=\"color: #008000; text-decoration-color: #008000\">/slides/files/Kashefi'</span>                  <span style=\"color: #7f7f7f; text-decoration-color: #7f7f7f\">           </span>\n",
       "</pre>\n"
      ],
      "text/plain": [
       "\u001b[2;36m[07/03/25 23:09:04]\u001b[0m\u001b[2;36m \u001b[0m\u001b[34mINFO    \u001b[0m Generated \u001b[1;36m1\u001b[0m slides to                                                      \u001b]8;id=827528;file:///home/ronakr/Documents/manimations/.venv/lib/python3.13/site-packages/manim_slides/slide/base.py\u001b\\\u001b[2mbase.py\u001b[0m\u001b]8;;\u001b\\\u001b[2m:\u001b[0m\u001b]8;id=550216;file:///home/ronakr/Documents/manimations/.venv/lib/python3.13/site-packages/manim_slides/slide/base.py#599\u001b\\\u001b[2m599\u001b[0m\u001b]8;;\u001b\\\n",
       "\u001b[2;36m                    \u001b[0m         \u001b[32m'/home/ronakr/Documents/m\u001b[0m\u001b[1;33manimations\u001b[0m\u001b[32m/slides/files/Kashefi'\u001b[0m                  \u001b[2m           \u001b[0m\n"
      ]
     },
     "metadata": {},
     "output_type": "display_data"
    },
    {
     "data": {
      "text/html": [
       "<pre style=\"white-space:pre;overflow-x:auto;line-height:normal;font-family:Menlo,'DejaVu Sans Mono',consolas,'Courier New',monospace\"><span style=\"color: #7fbfbf; text-decoration-color: #7fbfbf\">[07/03/25 23:09:04] </span><span style=\"color: #008000; text-decoration-color: #008000\">INFO    </span> Generated <span style=\"color: #008000; text-decoration-color: #008000\">1</span> slides to                                                      <a href=\"file:///home/ronakr/Documents/manimations/.venv/lib/python3.13/site-packages/manim_slides/slide/base.py\" target=\"_blank\"><span style=\"color: #7f7f7f; text-decoration-color: #7f7f7f\">base.py</span></a><span style=\"color: #7f7f7f; text-decoration-color: #7f7f7f\">:</span><a href=\"file:///home/ronakr/Documents/manimations/.venv/lib/python3.13/site-packages/manim_slides/slide/base.py#599\" target=\"_blank\"><span style=\"color: #7f7f7f; text-decoration-color: #7f7f7f\">599</span></a>\n",
       "<span style=\"color: #7fbfbf; text-decoration-color: #7fbfbf\">                    </span>         <span style=\"color: #008000; text-decoration-color: #008000\">'/home/ronakr/Documents/m</span><span style=\"color: #808000; text-decoration-color: #808000; font-weight: bold\">animations</span><span style=\"color: #008000; text-decoration-color: #008000\">/slides/files/Kashefi'</span>                  <span style=\"color: #7f7f7f; text-decoration-color: #7f7f7f\">           </span>\n",
       "</pre>\n"
      ],
      "text/plain": [
       "\u001b[2;36m[07/03/25 23:09:04]\u001b[0m\u001b[2;36m \u001b[0m\u001b[32mINFO    \u001b[0m Generated \u001b[32m1\u001b[0m slides to                                                      \u001b]8;id=224880;file:///home/ronakr/Documents/manimations/.venv/lib/python3.13/site-packages/manim_slides/slide/base.py\u001b\\\u001b[2mbase.py\u001b[0m\u001b]8;;\u001b\\\u001b[2m:\u001b[0m\u001b]8;id=998533;file:///home/ronakr/Documents/manimations/.venv/lib/python3.13/site-packages/manim_slides/slide/base.py#599\u001b\\\u001b[2m599\u001b[0m\u001b]8;;\u001b\\\n",
       "\u001b[2;36m                    \u001b[0m         \u001b[32m'/home/ronakr/Documents/m\u001b[0m\u001b[1;33manimations\u001b[0m\u001b[32m/slides/files/Kashefi'\u001b[0m                  \u001b[2m           \u001b[0m\n"
      ]
     },
     "metadata": {},
     "output_type": "display_data"
    },
    {
     "data": {
      "text/html": [
       "<pre style=\"white-space:pre;overflow-x:auto;line-height:normal;font-family:Menlo,'DejaVu Sans Mono',consolas,'Courier New',monospace\"><span style=\"color: #7fbfbf; text-decoration-color: #7fbfbf\">                    </span><span style=\"color: #000080; text-decoration-color: #000080\">INFO    </span> Slide <span style=\"color: #008000; text-decoration-color: #008000\">'Kashefi'</span> configuration written in                                   <a href=\"file:///home/ronakr/Documents/manimations/.venv/lib/python3.13/site-packages/manim_slides/slide/base.py\" target=\"_blank\"><span style=\"color: #7f7f7f; text-decoration-color: #7f7f7f\">base.py</span></a><span style=\"color: #7f7f7f; text-decoration-color: #7f7f7f\">:</span><a href=\"file:///home/ronakr/Documents/manimations/.venv/lib/python3.13/site-packages/manim_slides/slide/base.py#611\" target=\"_blank\"><span style=\"color: #7f7f7f; text-decoration-color: #7f7f7f\">611</span></a>\n",
       "<span style=\"color: #7fbfbf; text-decoration-color: #7fbfbf\">                    </span>         <span style=\"color: #008000; text-decoration-color: #008000\">'/home/ronakr/Documents/m</span><span style=\"color: #808000; text-decoration-color: #808000; font-weight: bold\">animations</span><span style=\"color: #008000; text-decoration-color: #008000\">/slides/Kashefi.json'</span>                   <span style=\"color: #7f7f7f; text-decoration-color: #7f7f7f\">           </span>\n",
       "</pre>\n"
      ],
      "text/plain": [
       "\u001b[2;36m                   \u001b[0m\u001b[2;36m \u001b[0m\u001b[34mINFO    \u001b[0m Slide \u001b[32m'Kashefi'\u001b[0m configuration written in                                   \u001b]8;id=310337;file:///home/ronakr/Documents/manimations/.venv/lib/python3.13/site-packages/manim_slides/slide/base.py\u001b\\\u001b[2mbase.py\u001b[0m\u001b]8;;\u001b\\\u001b[2m:\u001b[0m\u001b]8;id=207075;file:///home/ronakr/Documents/manimations/.venv/lib/python3.13/site-packages/manim_slides/slide/base.py#611\u001b\\\u001b[2m611\u001b[0m\u001b]8;;\u001b\\\n",
       "\u001b[2;36m                    \u001b[0m         \u001b[32m'/home/ronakr/Documents/m\u001b[0m\u001b[1;33manimations\u001b[0m\u001b[32m/slides/Kashefi.json'\u001b[0m                   \u001b[2m           \u001b[0m\n"
      ]
     },
     "metadata": {},
     "output_type": "display_data"
    },
    {
     "data": {
      "text/html": [
       "<pre style=\"white-space:pre;overflow-x:auto;line-height:normal;font-family:Menlo,'DejaVu Sans Mono',consolas,'Courier New',monospace\"><span style=\"color: #7fbfbf; text-decoration-color: #7fbfbf\">                    </span><span style=\"color: #008000; text-decoration-color: #008000\">INFO    </span> Slide <span style=\"color: #008000; text-decoration-color: #008000\">'Kashefi'</span> configuration written in                                   <a href=\"file:///home/ronakr/Documents/manimations/.venv/lib/python3.13/site-packages/manim_slides/slide/base.py\" target=\"_blank\"><span style=\"color: #7f7f7f; text-decoration-color: #7f7f7f\">base.py</span></a><span style=\"color: #7f7f7f; text-decoration-color: #7f7f7f\">:</span><a href=\"file:///home/ronakr/Documents/manimations/.venv/lib/python3.13/site-packages/manim_slides/slide/base.py#611\" target=\"_blank\"><span style=\"color: #7f7f7f; text-decoration-color: #7f7f7f\">611</span></a>\n",
       "<span style=\"color: #7fbfbf; text-decoration-color: #7fbfbf\">                    </span>         <span style=\"color: #008000; text-decoration-color: #008000\">'/home/ronakr/Documents/m</span><span style=\"color: #808000; text-decoration-color: #808000; font-weight: bold\">animations</span><span style=\"color: #008000; text-decoration-color: #008000\">/slides/Kashefi.json'</span>                   <span style=\"color: #7f7f7f; text-decoration-color: #7f7f7f\">           </span>\n",
       "</pre>\n"
      ],
      "text/plain": [
       "\u001b[2;36m                   \u001b[0m\u001b[2;36m \u001b[0m\u001b[32mINFO    \u001b[0m Slide \u001b[32m'Kashefi'\u001b[0m configuration written in                                   \u001b]8;id=762862;file:///home/ronakr/Documents/manimations/.venv/lib/python3.13/site-packages/manim_slides/slide/base.py\u001b\\\u001b[2mbase.py\u001b[0m\u001b]8;;\u001b\\\u001b[2m:\u001b[0m\u001b]8;id=982706;file:///home/ronakr/Documents/manimations/.venv/lib/python3.13/site-packages/manim_slides/slide/base.py#611\u001b\\\u001b[2m611\u001b[0m\u001b]8;;\u001b\\\n",
       "\u001b[2;36m                    \u001b[0m         \u001b[32m'/home/ronakr/Documents/m\u001b[0m\u001b[1;33manimations\u001b[0m\u001b[32m/slides/Kashefi.json'\u001b[0m                   \u001b[2m           \u001b[0m\n"
      ]
     },
     "metadata": {},
     "output_type": "display_data"
    },
    {
     "data": {
      "text/html": [
       "<video src=\"media/jupyter/Kashefi@2025-07-03@23-09-04.mp4\" controls autoplay loop style=\"max-width: 60%;\"  >\n",
       "      Your browser does not support the <code>video</code> element.\n",
       "    </video>"
      ],
      "text/plain": [
       "<IPython.core.display.Video object>"
      ]
     },
     "metadata": {},
     "output_type": "display_data"
    }
   ],
   "source": [
    "%%manim -ql Kashefi\n",
    "\n",
    "class Kashefi(Slide):\n",
    "    def construct(self):\n",
    "        self.wait_time_between_slides = 1\n",
    "        \n",
    "        ckt_outline = RoundedRectangle(corner_radius=0.25, height=4.0, width=8.0)\n",
    "        oracle_tex = r'''\\Qcircuit @C=0.7em @R=0.7em @!R { & \\gate{P_f} & \\qw }'''\n",
    "        oracles = []\n",
    "        oracles.append(MathTex(oracle_tex, tex_template=myTemplate).move_to(ckt_outline.get_center()).shift(0.8*LEFT))\n",
    "        oracles.append(oracles[0].copy().shift(1.5*LEFT + UP))\n",
    "        oracles.append(oracles[0].copy().shift(1.5*RIGHT + UP))\n",
    "        oracles.append(oracles[0].copy().shift(3*RIGHT + DOWN))\n",
    "        ckt = VGroup(ckt_outline, *oracles)\n",
    "        \n",
    "        self.play(FadeIn(ckt))\n",
    "        self.play(ckt.animate.flip())"
   ]
  },
  {
   "cell_type": "markdown",
   "id": "e58fbe45",
   "metadata": {},
   "source": [
    "### AlgCkt"
   ]
  },
  {
   "cell_type": "code",
   "execution_count": null,
   "id": "c8edf993",
   "metadata": {},
   "outputs": [],
   "source": [
    "%%manim -ql AlgCircuit\n",
    "\n",
    "class AlgCircuit(Slide):\n",
    "    def construct(self):\n",
    "        self.wait_time_between_slides = 1\n",
    "\n",
    "        # qcircuit\n",
    "        qcircuit = r'''\n",
    "        \\Qcircuit @C=.5em @R=0.5em @!R {\n",
    "         & & & & & & \\mbox{\\hspace{1.8em}\\textit{Mark}} & & & & & & & & \\mbox{\\textit{Shift}} & & & & & & & & \\mbox{\\textit{Diffuse the Difference}} \\\\\n",
    "    \t& \\lstick{} & \\qw       & \\push{\\rule{0em}{1em}} \\qw & \\ctrl{4}  & \\qw       & \\qw       & \\qw       & \\qw       & \\push{\\rule{0em}{1em}} \\qw & \\push{\\rule{0em}{1em}} \\qw & \\push{\\rule{0em}{1em}} \\qw & \\push{\\rule{0em}{1em}} \\qw & \\multigate{2}{\\Ppi} & \\ctrl{3}  & \\qw       & \\qw       & \\push{\\rule{0em}{1em}} \\qw & \\push{\\rule{0em}{1em}} \\qw & \\push{\\rule{0em}{1em}} \\qw & \\push{\\rule{0em}{1em}} \\qw & \\qw       & \\multigate{2}{\\diffusion} & \\qw       & \\push{\\rule{0em}{1em}} \\qw & \\push{\\rule{0em}{1em}} \\qw & \\qw       & \\qw       & \\push{\\rule{0em}{1em}}\\\\\n",
    "    \t& \\lstick{} & \\qw       & \\push{\\rule{0em}{1em}} \\qw & \\qw       & \\ctrl{4}  & \\qw       & \\qw       & \\qw       & \\push{\\rule{0em}{1em}} \\qw & \\push{\\rule{0em}{1em}} \\qw & \\push{\\rule{0em}{1em}} \\qw & \\push{\\rule{0em}{1em}} \\qw & \\ghost{\\Ppi} & \\qw       & \\ctrl{2}  & \\qw       & \\push{\\rule{0em}{1em}} \\qw & \\push{\\rule{0em}{1em}} \\qw & \\push{\\rule{0em}{1em}} \\qw & \\push{\\rule{0em}{1em}} \\qw & \\qw       & \\ghost{\\diffusion} & \\qw       & \\push{\\rule{0em}{1em}} \\qw & \\push{\\rule{0em}{1em}} \\qw & \\qw       & \\qw       & \\rstick{\\ket{\\psi_{t}}_\\regA} \\push{\\rule{0em}{1em}}\\\\\n",
    "    \t& \\lstick{} & \\qw       & \\push{\\rule{0em}{1em}} \\qw & \\qw       & \\qw       & \\ctrl{4}  & \\qw       & \\qw       & \\push{\\rule{0em}{1em}} \\qw & \\push{\\rule{0em}{1em}} \\qw & \\push{\\rule{0em}{1em}} \\qw & \\push{\\rule{0em}{1em}} \\qw & \\ghost{\\Ppi} & \\qw       & \\qw       & \\ctrl{1}  & \\push{\\rule{0em}{1em}} \\qw & \\push{\\rule{0em}{1em}} \\qw & \\push{\\rule{0em}{1em}} \\qw & \\push{\\rule{0em}{1em}} \\qw & \\qw       & \\ghost{\\diffusion} & \\qw       & \\push{\\rule{0em}{1em}} \\qw & \\push{\\rule{0em}{1em}} \\qw & \\qw       & \\qw       & \\push{\\rule{0em}{1em}}\n",
    "    \\inputgroupv{2}{4}{0.5em}{2em}{\\ket{\\psi_{t-1}}_\\regA \\hspace{1.3em}} \\\\\n",
    "    \t& \\lstick{\\ket{0}_\\regC \\Big\\{} & \\qw       & \\push{\\rule{0em}{1em}} \\qw & \\qw       & \\qw       & \\qw       & \\qw       & \\targ     & \\push{\\rule{0em}{1em}} \\qw & \\push{\\rule{0em}{1em}} \\qw & \\push{\\rule{0em}{1em}} \\qw & \\push{\\rule{0em}{1em}} \\qw & \\ctrlo{-1} & \\ctrlo{1} & \\ctrlo{2} & \\ctrlo{3} & \\push{\\rule{0em}{1em}} \\qw & \\push{\\rule{0em}{1em}} \\qw & \\push{\\rule{0em}{1em}} \\qw & \\push{\\rule{0em}{1em}} \\qw & \\gate{H}  & \\ctrl{-1} & \\gate{H}  & \\push{\\rule{0em}{1em}} \\qw & \\push{\\rule{0em}{1em}} \\qw & \\meter    & \\cw       & \\rstick{\\text{\\textit{Measure} }\\regC} \\\\\n",
    "    \t& \\lstick{} & \\qw       & \\push{\\rule{0em}{1em}} \\qw & \\targ     & \\qw       & \\qw       & \\multigate{2}{\\Ppi} & \\ctrlo{-1} & \\push{\\rule{0em}{1em}} \\qw & \\push{\\rule{0em}{1em}} \\qw & \\push{\\rule{0em}{1em}} \\qw & \\push{\\rule{0em}{1em}} \\qw & \\qw       & \\targ     & \\qw       & \\qw       & \\push{\\rule{0em}{1em}} \\qw & \\push{\\rule{0em}{1em}} \\qw & \\push{\\rule{0em}{1em}} \\qw & \\push{\\rule{0em}{1em}}\\\\\n",
    "    \t& \\lstick{} & \\qw       & \\push{\\rule{0em}{1em}} \\qw & \\qw       & \\targ     & \\qw       & \\ghost{\\Ppi} & \\ctrlo{-1} & \\push{\\rule{0em}{1em}} \\qw & \\push{\\rule{0em}{1em}} \\qw & \\push{\\rule{0em}{1em}} \\qw & \\push{\\rule{0em}{1em}} \\qw & \\qw       & \\qw       & \\targ     & \\qw       & \\push{\\rule{0em}{1em}} \\qw & \\push{\\rule{0em}{1em}} \\qw & \\push{\\rule{0em}{1em}} \\qw & \\rstick{\\ket{0^n}_\\regB} \\push{\\rule{0em}{1em}}\\\\\n",
    "    \t& \\lstick{} & \\qw       & \\push{\\rule{0em}{1em}} \\qw & \\qw       & \\qw       & \\targ     & \\ghost{\\Ppi} & \\ctrlo{-1} & \\push{\\rule{0em}{1em}} \\qw & \\push{\\rule{0em}{1em}} \\qw & \\push{\\rule{0em}{1em}} \\qw & \\push{\\rule{0em}{1em}} \\qw & \\qw       & \\qw       & \\qw       & \\targ     & \\push{\\rule{0em}{1em}} \\qw & \\push{\\rule{0em}{1em}} \\qw & \\push{\\rule{0em}{1em}} \\qw & \\push{\\rule{0em}{1em}}\n",
    "    \\inputgroupv{6}{8}{0.5em}{2em}{\\ket{0^n}_\\regB \\hspace{0.5em}}\n",
    "    \\gategroup{2}{29}{4}{29}{0em}{\\}}\n",
    "    \\gategroup{6}{21}{8}{21}{0em}{\\}}\n",
    "    \\gategroup{2}{4}{8}{10}{0.7em}{--}\n",
    "    \\gategroup{2}{13}{8}{18}{0.7em}{--}\n",
    "    \\gategroup{2}{21}{5}{25}{0.7em}{--}\\\\\n",
    "    }\n",
    "        '''\n",
    "        label = MathTex(qcircuit, tex_template=myTemplate).scale(0.5)\n",
    "        self.play(Write(label))\n",
    "        self.wait()\n",
    "        self.next_slide()"
   ]
  },
  {
   "cell_type": "markdown",
   "id": "71ecd7e4",
   "metadata": {},
   "source": [
    "### StepThruOurAlgBar"
   ]
  },
  {
   "cell_type": "code",
   "execution_count": null,
   "id": "058d2820",
   "metadata": {},
   "outputs": [],
   "source": [
    "def get_HRY_amps(t, N=10):\n",
    "    a_t = np.sin((t+1)*np.arctan(1/np.sqrt(N-1)))\n",
    "    b_t = np.cos((t+1)*np.arctan(1/np.sqrt(N-1)))/np.sqrt(N-1)\n",
    "    assert(np.isclose(a_t**2 + (N-1)*b_t**2, 1))\n",
    "    return a_t, b_t"
   ]
  },
  {
   "cell_type": "code",
   "execution_count": null,
   "id": "a6b2fa5b",
   "metadata": {},
   "outputs": [],
   "source": [
    "%%manim -ql StepThruOurAlgBar\n",
    "\n",
    "class StepThruOurAlgBar(Slide):\n",
    "    def construct(self):\n",
    "        self.wait_time_between_slides = 1\n",
    "        N = 10\n",
    "        T = 21\n",
    "\n",
    "        chart = BarChart(\n",
    "            [1/np.sqrt(N)]*N,\n",
    "            y_range=[-1, 1, 1],\n",
    "            y_axis_config={\"font_size\": 24},\n",
    "        )\n",
    "\n",
    "        self.play(DrawBorderThenFill(chart))\n",
    "        self.next_slide()\n",
    "\n",
    "        for t in range(1,T):\n",
    "            a_t,b_t = get_HRY_amps(t,N)\n",
    "            values = [a_t] + [b_t]*(N-1)\n",
    "            self.play(chart.animate.change_bar_values(values))\n",
    "            self.next_slide()\n",
    "\n",
    "        # charts = []\n",
    "        # # labels = []\n",
    "        # for t in range(T):\n",
    "        #     a_t,b_t = get_amps(t,N)\n",
    "        #     values = [a_t] + [b_t]*(N-1)\n",
    "\n",
    "        #     charts.append(BarChart(\n",
    "        #         values,\n",
    "        #         y_range=[-1, 1, 1],\n",
    "        #         y_axis_config={\"font_size\": 24},\n",
    "        #     ))\n",
    "\n",
    "        #     # labels.append(charts[t].get_bar_labels(font_size=24))\n",
    "\n",
    "        # self.play(DrawBorderThenFill(charts[0])) #, Write(labels[0]))\n",
    "        # self.wait()\n",
    "        \n",
    "        # for t in range(1,T):\n",
    "        #     self.play(Transform(charts[t-1],charts[t])) #,Transform(labels[t-1],labels[t]))\n",
    "        #     self.wait()\n"
   ]
  },
  {
   "cell_type": "code",
   "execution_count": null,
   "id": "c8d1db49",
   "metadata": {},
   "outputs": [],
   "source": []
  }
 ],
 "metadata": {
  "kernelspec": {
   "display_name": ".venv",
   "language": "python",
   "name": "python3"
  },
  "language_info": {
   "codemirror_mode": {
    "name": "ipython",
    "version": 3
   },
   "file_extension": ".py",
   "mimetype": "text/x-python",
   "name": "python",
   "nbconvert_exporter": "python",
   "pygments_lexer": "ipython3",
   "version": "3.13.5"
  }
 },
 "nbformat": 4,
 "nbformat_minor": 5
}
